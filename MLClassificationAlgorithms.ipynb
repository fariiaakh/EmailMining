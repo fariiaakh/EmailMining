{
 "cells": [
  {
   "cell_type": "markdown",
   "metadata": {},
   "source": [
    "# Employing Various Classification Algorithms to classify emails as Business or Personal"
   ]
  },
  {
   "cell_type": "markdown",
   "metadata": {},
   "source": [
    "## Importing modules"
   ]
  },
  {
   "cell_type": "code",
   "execution_count": 2,
   "metadata": {
    "ExecuteTime": {
     "end_time": "2020-08-19T02:00:38.048961Z",
     "start_time": "2020-08-19T02:00:34.753026Z"
    }
   },
   "outputs": [
    {
     "name": "stdout",
     "output_type": "stream",
     "text": [
      "Importing libraries ... \n",
      "All modules are ready\n"
     ]
    }
   ],
   "source": [
    "\n",
    "# Importing libraries\n",
    "print(\"Importing libraries ... \")\n",
    "import pandas as pd\n",
    "import numpy as np\n",
    "from collections import Counter\n",
    "import datetime, time, vaex, email, re\n",
    "\n",
    "from sklearn.svm import LinearSVC, SVC\n",
    "from sklearn.pipeline import Pipeline\n",
    "from sklearn.metrics import accuracy_score, classification_report\n",
    "from sklearn.tree import DecisionTreeClassifier\n",
    "from sklearn.multiclass import OneVsRestClassifier\n",
    "from sklearn.ensemble import RandomForestClassifier, GradientBoostingClassifier\n",
    "from sklearn.linear_model import LogisticRegression, SGDClassifier\n",
    "from sklearn.model_selection import train_test_split, GridSearchCV, KFold, cross_val_score\n",
    "from sklearn.feature_extraction.text import CountVectorizer, TfidfTransformer, TfidfVectorizer\n",
    "from sklearn.preprocessing import OneHotEncoder, LabelEncoder\n",
    "from sklearn.naive_bayes import BernoulliNB, MultinomialNB\n",
    "\n",
    "import seaborn as sns\n",
    "import matplotlib.pyplot as plt\n",
    "import plotly.graph_objs as go\n",
    "import plotly.offline as py\n",
    "print(\"All modules are ready\")\n",
    "\n",
    "\n"
   ]
  },
  {
   "cell_type": "code",
   "execution_count": 3,
   "metadata": {
    "ExecuteTime": {
     "end_time": "2020-08-19T02:00:38.112278Z",
     "start_time": "2020-08-19T02:00:38.053060Z"
    }
   },
   "outputs": [],
   "source": [
    "\n",
    "from sklearn.naive_bayes import BernoulliNB\n",
    "from sklearn.tree import DecisionTreeClassifier\n",
    "from sklearn.tree import ExtraTreeClassifier\n",
    "from sklearn.ensemble import ExtraTreesClassifier\n",
    "from sklearn.naive_bayes import GaussianNB\n",
    "from sklearn.neighbors import KNeighborsClassifier\n",
    "from sklearn.semi_supervised import LabelPropagation\n",
    "from sklearn.semi_supervised import LabelSpreading\n",
    "from sklearn.discriminant_analysis import LinearDiscriminantAnalysis\n",
    "from sklearn.svm import LinearSVC\n",
    "from sklearn.linear_model import LogisticRegression \n",
    "from sklearn.linear_model import LogisticRegressionCV \n",
    "from sklearn.neural_network import MLPClassifier\n",
    "from sklearn.neighbors import NearestCentroid\n",
    "from sklearn.discriminant_analysis import QuadraticDiscriminantAnalysis\n",
    "from sklearn.neighbors import RadiusNeighborsClassifier\n",
    "from sklearn.ensemble import RandomForestClassifier\n",
    "from sklearn.linear_model import RidgeClassifier\n",
    "from sklearn.linear_model import RidgeClassifierCV\n",
    "\n",
    "from sklearn.svm import NuSVC\n",
    "from sklearn.svm import SVC\n",
    "from sklearn.gaussian_process import GaussianProcessClassifier \n",
    "\n",
    "from sklearn.ensemble import GradientBoostingClassifier\n",
    "from sklearn.linear_model import SGDClassifier\n",
    "from sklearn.linear_model import Perceptron\n",
    "from sklearn.linear_model import PassiveAggressiveClassifier\n",
    "\n",
    "\n"
   ]
  },
  {
   "cell_type": "markdown",
   "metadata": {},
   "source": [
    "## Loading\n",
    "Load the data into a data structure"
   ]
  },
  {
   "cell_type": "code",
   "execution_count": 5,
   "metadata": {
    "ExecuteTime": {
     "end_time": "2020-08-19T02:00:41.517070Z",
     "start_time": "2020-08-19T02:00:38.161324Z"
    }
   },
   "outputs": [
    {
     "data": {
      "text/html": [
       "<div>\n",
       "<style scoped>\n",
       "    .dataframe tbody tr th:only-of-type {\n",
       "        vertical-align: middle;\n",
       "    }\n",
       "\n",
       "    .dataframe tbody tr th {\n",
       "        vertical-align: top;\n",
       "    }\n",
       "\n",
       "    .dataframe thead th {\n",
       "        text-align: right;\n",
       "    }\n",
       "</style>\n",
       "<table border=\"1\" class=\"dataframe\">\n",
       "  <thead>\n",
       "    <tr style=\"text-align: right;\">\n",
       "      <th></th>\n",
       "      <th>Subject</th>\n",
       "      <th>Date</th>\n",
       "      <th>From(email)</th>\n",
       "      <th>To(email)</th>\n",
       "      <th>EmailContent</th>\n",
       "      <th>Spam</th>\n",
       "    </tr>\n",
       "  </thead>\n",
       "  <tbody>\n",
       "    <tr>\n",
       "      <th>0</th>\n",
       "      <td>missing</td>\n",
       "      <td>Mon, 14 May 2001 16:39:00 -0700 (PDT)</td>\n",
       "      <td>phillip.allen@enron.com</td>\n",
       "      <td>tim.belden@enron.com</td>\n",
       "      <td>Here is our forecast\\n\\n</td>\n",
       "      <td>0</td>\n",
       "    </tr>\n",
       "    <tr>\n",
       "      <th>1</th>\n",
       "      <td>Re:</td>\n",
       "      <td>Fri, 4 May 2001 13:51:00 -0700 (PDT)</td>\n",
       "      <td>phillip.allen@enron.com</td>\n",
       "      <td>john.lavorato@enron.com</td>\n",
       "      <td>Traveling to have a business meeting takes the...</td>\n",
       "      <td>0</td>\n",
       "    </tr>\n",
       "  </tbody>\n",
       "</table>\n",
       "</div>"
      ],
      "text/plain": [
       "   Subject                                   Date              From(email)                To(email)                                       EmailContent  Spam\n",
       "0  missing  Mon, 14 May 2001 16:39:00 -0700 (PDT)  phillip.allen@enron.com     tim.belden@enron.com                          Here is our forecast\\n\\n      0\n",
       "1      Re:   Fri, 4 May 2001 13:51:00 -0700 (PDT)  phillip.allen@enron.com  john.lavorato@enron.com  Traveling to have a business meeting takes the...     0"
      ]
     },
     "execution_count": 5,
     "metadata": {},
     "output_type": "execute_result"
    }
   ],
   "source": [
    "# reading dataset\n",
    "file_path = \"/Users/speedy/Desktop/UofT/Course load/INF2179H - Machine Learning/Notebooks/Data/\"\n",
    "file_name = \"wtnospam2.csv\"\n",
    "enron = pd.read_csv(file_path + file_name)\n",
    "\n",
    "# printing the first two lines on the dataset\n",
    "enron.head(2)"
   ]
  },
  {
   "cell_type": "code",
   "execution_count": 6,
   "metadata": {
    "ExecuteTime": {
     "end_time": "2020-08-19T02:00:42.578698Z",
     "start_time": "2020-08-19T02:00:41.520480Z"
    }
   },
   "outputs": [
    {
     "name": "stdout",
     "output_type": "stream",
     "text": [
      "Dataset type is:  <class 'pandas.core.frame.DataFrame'> \n",
      "\n",
      "The data shape is:  (245176, 6) \n",
      "\n",
      "This dataset has  103052 duplicated values\n",
      "\n",
      "Column names are:  Index(['Subject', 'Date', 'From(email)', 'To(email)', 'EmailContent', 'Spam'], dtype='object')\n"
     ]
    }
   ],
   "source": [
    "# Exploration 1st step\n",
    "def exploration():\n",
    "    # Dataset type\n",
    "    print(\"Dataset type is: \", type(enron), \"\\n\")\n",
    "    \n",
    "    # Data shape\n",
    "    print(\"The data shape is: \", enron.shape, \"\\n\")\n",
    "    \n",
    "    # Checking for duplicates\n",
    "    dup = enron.duplicated().sum()\n",
    "    print(\"This dataset has \", dup, \"duplicated values\\n\")\n",
    "    \n",
    "    # Column names\n",
    "    print(\"Column names are: \", enron.columns)\n",
    "    \n",
    "\n",
    "exploration()"
   ]
  },
  {
   "cell_type": "markdown",
   "metadata": {},
   "source": [
    "## Manipulating\n",
    "\n"
   ]
  },
  {
   "cell_type": "code",
   "execution_count": 7,
   "metadata": {
    "ExecuteTime": {
     "end_time": "2020-08-19T02:00:42.629861Z",
     "start_time": "2020-08-19T02:00:42.582132Z"
    }
   },
   "outputs": [
    {
     "data": {
      "text/plain": [
       "'Please cc the following distribution list with updates:\\n\\nPhillip Allen (pallen@enron.com)\\nMike Grigsby (mike.grigsby@enron.com)\\nKeith Holst (kholst@enron.com)\\nMonique Sanchez\\nFrank Ermis\\nJohn Lavorato\\n\\n\\nThank you for your help\\n\\nPhillip Allen\\n'"
      ]
     },
     "execution_count": 7,
     "metadata": {},
     "output_type": "execute_result"
    }
   ],
   "source": [
    "msg = enron[\"EmailContent\"][2]\n",
    "msg"
   ]
  },
  {
   "cell_type": "markdown",
   "metadata": {},
   "source": [
    "# Data exploration"
   ]
  },
  {
   "cell_type": "code",
   "execution_count": 8,
   "metadata": {
    "ExecuteTime": {
     "end_time": "2020-08-19T02:00:42.702097Z",
     "start_time": "2020-08-19T02:00:42.639810Z"
    }
   },
   "outputs": [
    {
     "data": {
      "text/plain": [
       "jeff.dasovich@enron.com       6632\n",
       "kay.mann@enron.com            6422\n",
       "vince.kaminski@enron.com      6370\n",
       "pete.davis@enron.com          4502\n",
       "tana.jones@enron.com          3898\n",
       "                              ... \n",
       "moontiger13@hotmail.com          1\n",
       "bob.carter@penreco.com           1\n",
       "hopeful@glay.org                 1\n",
       "tom.mccall@entergykoch.com       1\n",
       "david.ingram@enron.com           1\n",
       "Name: From(email), Length: 13925, dtype: int64"
      ]
     },
     "execution_count": 8,
     "metadata": {},
     "output_type": "execute_result"
    }
   ],
   "source": [
    "# Getting unique emails sent by From(Name)\n",
    "enron.iloc[:, 2].value_counts()\n"
   ]
  },
  {
   "cell_type": "code",
   "execution_count": 9,
   "metadata": {
    "ExecuteTime": {
     "end_time": "2020-08-19T02:00:42.814228Z",
     "start_time": "2020-08-19T02:00:42.708773Z"
    }
   },
   "outputs": [
    {
     "data": {
      "text/plain": [
       "missing                                                                                                                                                                                                                                                                                                         7252\n",
       "pete.davis@enron.com                                                                                                                                                                                                                                                                                            4507\n",
       "vkaminski@aol.com                                                                                                                                                                                                                                                                                               3232\n",
       "tana.jones@enron.com                                                                                                                                                                                                                                                                                            2147\n",
       "jeff.dasovich@enron.com                                                                                                                                                                                                                                                                                         2087\n",
       "                                                                                                                                                                                                                                                                                                                ... \n",
       "l..barbour@enron.com, mark.brand@enron.com, kelly.mckinzie@enron.com, \\n\\tchip.schneider@enron.com, troy.denetsosie@enron.com, \\n\\tdenise.furey@enron.com, andre.cangucu@enron.com, \\n\\tnigel.carling@enron.com, wayne.mays@enron.com, \\n\\tbill.williams@enron.com                                                 1\n",
       "monica.clay@enron.com, kam.keiser@enron.com                                                                                                                                                                                                                                                                        1\n",
       "jessica.uhl@enron.com, mitch.taylor@enron.com, rod.hayslett@enron.com                                                                                                                                                                                                                                              1\n",
       "nancy.sellers@robertmondavi.com, psellers@pacbell.net, \\n\\tjeff_dasovich@enron.com                                                                                                                                                                                                                                 1\n",
       "desmarais.patti@enron.com, lorraine.becker@enron.com, kenne.bryon@enron.com, \\n\\trichard.bythewood@enron.com, c..giron@enron.com, \\n\\tjennifer.denny@enron.com, dfmensinger2@enron.com, \\n\\tgary.garrett@enron.com, jbaer@enron.com, babb.jim@enron.com, \\n\\tbev.max@enron.com, bythewood.michelle@enron.com       1\n",
       "Name: To(email), Length: 39836, dtype: int64"
      ]
     },
     "execution_count": 9,
     "metadata": {},
     "output_type": "execute_result"
    }
   ],
   "source": [
    "# Getting unique emails received by To(Name)\n",
    "enron.iloc[:, 3].value_counts() "
   ]
  },
  {
   "cell_type": "code",
   "execution_count": 10,
   "metadata": {
    "ExecuteTime": {
     "end_time": "2020-08-19T02:00:42.922930Z",
     "start_time": "2020-08-19T02:00:42.820447Z"
    }
   },
   "outputs": [
    {
     "data": {
      "text/plain": [
       "Subject         0\n",
       "Date            0\n",
       "From(email)     0\n",
       "To(email)       0\n",
       "EmailContent    0\n",
       "Spam            0\n",
       "dtype: int64"
      ]
     },
     "execution_count": 10,
     "metadata": {},
     "output_type": "execute_result"
    }
   ],
   "source": [
    "# Checking null values\n",
    "enron.isnull().sum()\n",
    "# email_clean.sum()"
   ]
  },
  {
   "cell_type": "code",
   "execution_count": 11,
   "metadata": {
    "ExecuteTime": {
     "end_time": "2020-08-19T02:00:43.045617Z",
     "start_time": "2020-08-19T02:00:42.928642Z"
    }
   },
   "outputs": [
    {
     "name": "stdout",
     "output_type": "stream",
     "text": [
      "<class 'pandas.core.frame.DataFrame'>\n",
      "RangeIndex: 245176 entries, 0 to 245175\n",
      "Data columns (total 6 columns):\n",
      "Subject         245176 non-null object\n",
      "Date            245176 non-null object\n",
      "From(email)     245176 non-null object\n",
      "To(email)       245176 non-null object\n",
      "EmailContent    245176 non-null object\n",
      "Spam            245176 non-null int64\n",
      "dtypes: int64(1), object(5)\n",
      "memory usage: 11.2+ MB\n"
     ]
    }
   ],
   "source": [
    "enron.info()"
   ]
  },
  {
   "cell_type": "code",
   "execution_count": 12,
   "metadata": {
    "ExecuteTime": {
     "end_time": "2020-08-19T02:00:43.081305Z",
     "start_time": "2020-08-19T02:00:43.050933Z"
    }
   },
   "outputs": [
    {
     "data": {
      "text/html": [
       "<div>\n",
       "<style scoped>\n",
       "    .dataframe tbody tr th:only-of-type {\n",
       "        vertical-align: middle;\n",
       "    }\n",
       "\n",
       "    .dataframe tbody tr th {\n",
       "        vertical-align: top;\n",
       "    }\n",
       "\n",
       "    .dataframe thead th {\n",
       "        text-align: right;\n",
       "    }\n",
       "</style>\n",
       "<table border=\"1\" class=\"dataframe\">\n",
       "  <thead>\n",
       "    <tr style=\"text-align: right;\">\n",
       "      <th></th>\n",
       "      <th>Spam</th>\n",
       "    </tr>\n",
       "  </thead>\n",
       "  <tbody>\n",
       "    <tr>\n",
       "      <th>count</th>\n",
       "      <td>245176.0</td>\n",
       "    </tr>\n",
       "    <tr>\n",
       "      <th>mean</th>\n",
       "      <td>0.0</td>\n",
       "    </tr>\n",
       "    <tr>\n",
       "      <th>std</th>\n",
       "      <td>0.0</td>\n",
       "    </tr>\n",
       "    <tr>\n",
       "      <th>min</th>\n",
       "      <td>0.0</td>\n",
       "    </tr>\n",
       "    <tr>\n",
       "      <th>25%</th>\n",
       "      <td>0.0</td>\n",
       "    </tr>\n",
       "    <tr>\n",
       "      <th>50%</th>\n",
       "      <td>0.0</td>\n",
       "    </tr>\n",
       "    <tr>\n",
       "      <th>75%</th>\n",
       "      <td>0.0</td>\n",
       "    </tr>\n",
       "    <tr>\n",
       "      <th>max</th>\n",
       "      <td>0.0</td>\n",
       "    </tr>\n",
       "  </tbody>\n",
       "</table>\n",
       "</div>"
      ],
      "text/plain": [
       "           Spam\n",
       "count  245176.0\n",
       "mean        0.0\n",
       "std         0.0\n",
       "min         0.0\n",
       "25%         0.0\n",
       "50%         0.0\n",
       "75%         0.0\n",
       "max         0.0"
      ]
     },
     "execution_count": 12,
     "metadata": {},
     "output_type": "execute_result"
    }
   ],
   "source": [
    "enron.describe()"
   ]
  },
  {
   "cell_type": "code",
   "execution_count": 13,
   "metadata": {
    "ExecuteTime": {
     "end_time": "2020-08-19T02:00:43.124257Z",
     "start_time": "2020-08-19T02:00:43.088526Z"
    }
   },
   "outputs": [
    {
     "data": {
      "text/plain": [
       "Subject         13\n",
       "Date            13\n",
       "From(email)     13\n",
       "To(email)       13\n",
       "EmailContent    13\n",
       "Spam            13\n",
       "dtype: int64"
      ]
     },
     "execution_count": 13,
     "metadata": {},
     "output_type": "execute_result"
    }
   ],
   "source": [
    "enron.loc[enron[\"Subject\"]=='CONFIDENTIAL'].count()"
   ]
  },
  {
   "cell_type": "code",
   "execution_count": 14,
   "metadata": {
    "ExecuteTime": {
     "end_time": "2020-08-19T02:00:43.274601Z",
     "start_time": "2020-08-19T02:00:43.129069Z"
    }
   },
   "outputs": [],
   "source": [
    "top10_from = enron[\"From(email)\"].value_counts()[:10]\n",
    "top10_to = enron[\"To(email)\"].value_counts()[:10]"
   ]
  },
  {
   "cell_type": "code",
   "execution_count": 15,
   "metadata": {
    "ExecuteTime": {
     "end_time": "2020-08-19T02:00:43.293374Z",
     "start_time": "2020-08-19T02:00:43.280056Z"
    }
   },
   "outputs": [
    {
     "data": {
      "text/html": [
       "<div>\n",
       "<style scoped>\n",
       "    .dataframe tbody tr th:only-of-type {\n",
       "        vertical-align: middle;\n",
       "    }\n",
       "\n",
       "    .dataframe tbody tr th {\n",
       "        vertical-align: top;\n",
       "    }\n",
       "\n",
       "    .dataframe thead th {\n",
       "        text-align: right;\n",
       "    }\n",
       "</style>\n",
       "<table border=\"1\" class=\"dataframe\">\n",
       "  <thead>\n",
       "    <tr style=\"text-align: right;\">\n",
       "      <th></th>\n",
       "      <th>To(email)</th>\n",
       "    </tr>\n",
       "  </thead>\n",
       "  <tbody>\n",
       "    <tr>\n",
       "      <th>missing</th>\n",
       "      <td>7252</td>\n",
       "    </tr>\n",
       "    <tr>\n",
       "      <th>pete.davis@enron.com</th>\n",
       "      <td>4507</td>\n",
       "    </tr>\n",
       "    <tr>\n",
       "      <th>vkaminski@aol.com</th>\n",
       "      <td>3232</td>\n",
       "    </tr>\n",
       "    <tr>\n",
       "      <th>tana.jones@enron.com</th>\n",
       "      <td>2147</td>\n",
       "    </tr>\n",
       "    <tr>\n",
       "      <th>jeff.dasovich@enron.com</th>\n",
       "      <td>2087</td>\n",
       "    </tr>\n",
       "    <tr>\n",
       "      <th>sara.shackleton@enron.com</th>\n",
       "      <td>1960</td>\n",
       "    </tr>\n",
       "    <tr>\n",
       "      <th>louise.kitchen@enron.com</th>\n",
       "      <td>1906</td>\n",
       "    </tr>\n",
       "    <tr>\n",
       "      <th>kate.symes@enron.com</th>\n",
       "      <td>1818</td>\n",
       "    </tr>\n",
       "    <tr>\n",
       "      <th>gerald.nemec@enron.com</th>\n",
       "      <td>1576</td>\n",
       "    </tr>\n",
       "    <tr>\n",
       "      <th>mark.taylor@enron.com</th>\n",
       "      <td>1515</td>\n",
       "    </tr>\n",
       "  </tbody>\n",
       "</table>\n",
       "</div>"
      ],
      "text/plain": [
       "                           To(email)\n",
       "missing                         7252\n",
       "pete.davis@enron.com            4507\n",
       "vkaminski@aol.com               3232\n",
       "tana.jones@enron.com            2147\n",
       "jeff.dasovich@enron.com         2087\n",
       "sara.shackleton@enron.com       1960\n",
       "louise.kitchen@enron.com        1906\n",
       "kate.symes@enron.com            1818\n",
       "gerald.nemec@enron.com          1576\n",
       "mark.taylor@enron.com           1515"
      ]
     },
     "execution_count": 15,
     "metadata": {},
     "output_type": "execute_result"
    }
   ],
   "source": [
    "top = pd.DataFrame(top10_to)\n",
    "top"
   ]
  },
  {
   "cell_type": "markdown",
   "metadata": {},
   "source": [
    "The above plot requires more investigation, but preliminary findings show discrepancies between Sender's name versus Sender's email as well as Receiver's name versus Receiver's email address. It can be caused due to error in our algorithm but it can also mean that the they are not exclusively using email business accounts as values diverge in more than 0.2 in total volume for the most active agents (Kay and Vince for example)."
   ]
  },
  {
   "cell_type": "code",
   "execution_count": 17,
   "metadata": {
    "ExecuteTime": {
     "end_time": "2020-08-19T02:00:43.318466Z",
     "start_time": "2020-08-19T02:00:43.308937Z"
    }
   },
   "outputs": [
    {
     "data": {
      "text/plain": [
       "Index(['Subject', 'Date', 'From(email)', 'To(email)', 'EmailContent', 'Spam'], dtype='object')"
      ]
     },
     "execution_count": 17,
     "metadata": {},
     "output_type": "execute_result"
    }
   ],
   "source": [
    "enron.columns"
   ]
  },
  {
   "cell_type": "markdown",
   "metadata": {},
   "source": [
    "# ML Pipeline"
   ]
  },
  {
   "cell_type": "code",
   "execution_count": 18,
   "metadata": {
    "ExecuteTime": {
     "end_time": "2020-08-19T02:00:43.374164Z",
     "start_time": "2020-08-19T02:00:43.323576Z"
    }
   },
   "outputs": [
    {
     "data": {
      "text/plain": [
       "Counter({0: 245176})"
      ]
     },
     "execution_count": 18,
     "metadata": {},
     "output_type": "execute_result"
    }
   ],
   "source": [
    "Counter(enron[\"Spam\"])"
   ]
  },
  {
   "cell_type": "code",
   "execution_count": 19,
   "metadata": {
    "ExecuteTime": {
     "end_time": "2020-08-19T04:12:07.143338Z",
     "start_time": "2020-08-19T02:00:43.379300Z"
    }
   },
   "outputs": [
    {
     "name": "stderr",
     "output_type": "stream",
     "text": [
      "/opt/anaconda3/lib/python3.7/site-packages/ipykernel_launcher.py:16: SettingWithCopyWarning:\n",
      "\n",
      "\n",
      "A value is trying to be set on a copy of a slice from a DataFrame.\n",
      "Try using .loc[row_indexer,col_indexer] = value instead\n",
      "\n",
      "See the caveats in the documentation: http://pandas.pydata.org/pandas-docs/stable/user_guide/indexing.html#returning-a-view-versus-a-copy\n",
      "\n",
      "/opt/anaconda3/lib/python3.7/site-packages/ipykernel_launcher.py:17: SettingWithCopyWarning:\n",
      "\n",
      "\n",
      "A value is trying to be set on a copy of a slice from a DataFrame.\n",
      "Try using .loc[row_indexer,col_indexer] = value instead\n",
      "\n",
      "See the caveats in the documentation: http://pandas.pydata.org/pandas-docs/stable/user_guide/indexing.html#returning-a-view-versus-a-copy\n",
      "\n",
      "/opt/anaconda3/lib/python3.7/site-packages/ipykernel_launcher.py:24: SettingWithCopyWarning:\n",
      "\n",
      "\n",
      "A value is trying to be set on a copy of a slice from a DataFrame\n",
      "\n",
      "See the caveats in the documentation: http://pandas.pydata.org/pandas-docs/stable/user_guide/indexing.html#returning-a-view-versus-a-copy\n",
      "\n",
      "/opt/anaconda3/lib/python3.7/site-packages/ipykernel_launcher.py:31: SettingWithCopyWarning:\n",
      "\n",
      "\n",
      "A value is trying to be set on a copy of a slice from a DataFrame\n",
      "\n",
      "See the caveats in the documentation: http://pandas.pydata.org/pandas-docs/stable/user_guide/indexing.html#returning-a-view-versus-a-copy\n",
      "\n",
      "/opt/anaconda3/lib/python3.7/site-packages/ipykernel_launcher.py:38: SettingWithCopyWarning:\n",
      "\n",
      "\n",
      "A value is trying to be set on a copy of a slice from a DataFrame\n",
      "\n",
      "See the caveats in the documentation: http://pandas.pydata.org/pandas-docs/stable/user_guide/indexing.html#returning-a-view-versus-a-copy\n",
      "\n",
      "/opt/anaconda3/lib/python3.7/site-packages/ipykernel_launcher.py:45: SettingWithCopyWarning:\n",
      "\n",
      "\n",
      "A value is trying to be set on a copy of a slice from a DataFrame\n",
      "\n",
      "See the caveats in the documentation: http://pandas.pydata.org/pandas-docs/stable/user_guide/indexing.html#returning-a-view-versus-a-copy\n",
      "\n",
      "/opt/anaconda3/lib/python3.7/site-packages/ipykernel_launcher.py:51: SettingWithCopyWarning:\n",
      "\n",
      "\n",
      "A value is trying to be set on a copy of a slice from a DataFrame\n",
      "\n",
      "See the caveats in the documentation: http://pandas.pydata.org/pandas-docs/stable/user_guide/indexing.html#returning-a-view-versus-a-copy\n",
      "\n"
     ]
    }
   ],
   "source": [
    "df = enron[[\"EmailContent\", \"Spam\"]]\n",
    "df.columns = [\"EmailContent\", \"Label\"]\n",
    "\n",
    "bmeeting = [\"meeting\", \"schedule\", \"memo\", \"conference\", \"agenda\", \"date\"]\n",
    "bfollowup = [\"agreement\", \"report\", \"chart\", \"announcement\", \"draft\", \"change\", \"procedure\", \"late\", \"deadline\", \n",
    "             \"proposal\", \"contract\", \"letter\", \"follow-up\", \"summary\", \"supplemental\", \"approval\", \"template\"]\n",
    "bconfidential = [\"confidential\", \"privacy\", \"secret\", \"topsecret\", \"alert\", \"board\", \"committee\", \"fraud\", \"scam\",\n",
    "                 \"fbi\", \"investigation\", \"access\", \"proceeds\", \"donation\", \"transaction\", \"liquidation\", \"risk\",\n",
    "                 \"lawsuit\", \"sue\", \"violation\", \"criminal\", \"criminous\", \"scandal\"]\n",
    "bgeneral = [\"gas\", \"energy\", \"power\", \"development\", \"global\", \"organizational\", \"operation\", \"customer\", \"intern\", \n",
    "            \"associate\", \"hiring\", \"position\", \"patenting\", \"finance\", \"restruct\", \"balance\", \"stock\", \"transport\", \n",
    "            \"model\", \"management\", \"executive\", \"infrastructure\"]\n",
    "pfamilyfriends = [\"girlfriend\", \"boyfriend\", \"fwd\", \"buddy\", \"whassup\", \"weekend\", \"plans\", \"football\",\n",
    "                  \"hunt\", \"friends\", \"wife\", \"husband\", \"hubby\", \"drugs\", \"holiday\", \"season\", \"winter\", \"summer\"]\n",
    "\n",
    "df[\"Label\"]='other' #will add a new label with everything being other as a default\n",
    "df[\"Label\"]=6\n",
    "def label(dataset):\n",
    "    for i in range(len(dataset)):\n",
    "        for j in range(len(bmeeting)):  \n",
    "            word=bmeeting[j]\n",
    "            if word in dataset.iloc[:, 0][i]:#change the column position for email content if needed\n",
    "#                 dataset.iloc[:, -1][i]='bmeeting'\n",
    "                dataset.iloc[:, -1][i]= 1\n",
    "            else:\n",
    "                pass\n",
    "        for k in range(len(bfollowup)):\n",
    "            word=bfollowup[k]\n",
    "            if word in dataset.iloc[:, 0][i]:#change the column position for email content if needed\n",
    "#                 dataset.iloc[:, -1][i]='bfollowup' \n",
    "                dataset.iloc[:, -1][i]=2\n",
    "            else:\n",
    "                pass        \n",
    "        for k in range(len(bconfidential)):\n",
    "            word=bconfidential[k]\n",
    "            if word in dataset.iloc[:, 0][i]:#change the column position for email content if needed\n",
    "#                 dataset.iloc[:, -1][i]='bconfidential'\n",
    "                dataset.iloc[:, -1][i]=3\n",
    "            else:\n",
    "                pass\n",
    "        for k in range(len(bgeneral)):\n",
    "            word=bgeneral[k]\n",
    "            if word in dataset.iloc[:, 0][i]:#change the column position for email content if needed\n",
    "#                 dataset.iloc[:, -1][i]='bgeneral'\n",
    "                dataset.iloc[:, -1][i]=4\n",
    "            else:pass\n",
    "        for k in range(len(pfamilyfriends)):\n",
    "            word=pfamilyfriends[k]\n",
    "            if word in dataset.iloc[:, 0][i]:#change the column position for email content if needed\n",
    "#                 dataset.iloc[:, -1][i]='pfamilyfriends'\n",
    "                dataset.iloc[:, -1][i]=5\n",
    "    return dataset\n",
    "\n",
    "enron_final = label(df)"
   ]
  },
  {
   "cell_type": "code",
   "execution_count": 20,
   "metadata": {
    "ExecuteTime": {
     "end_time": "2020-08-19T04:12:07.211228Z",
     "start_time": "2020-08-19T04:12:07.149544Z"
    }
   },
   "outputs": [
    {
     "data": {
      "text/plain": [
       "(245176, 2)"
      ]
     },
     "execution_count": 20,
     "metadata": {},
     "output_type": "execute_result"
    }
   ],
   "source": [
    "enron_final.shape"
   ]
  },
  {
   "cell_type": "code",
   "execution_count": 42,
   "metadata": {
    "ExecuteTime": {
     "end_time": "2020-08-19T22:01:47.785805Z",
     "start_time": "2020-08-19T22:01:27.974433Z"
    }
   },
   "outputs": [],
   "source": [
    "# enron_final.to_csv(\"finalLabel.csv\")"
   ]
  },
  {
   "cell_type": "code",
   "execution_count": 22,
   "metadata": {
    "ExecuteTime": {
     "end_time": "2020-08-19T04:13:16.881797Z",
     "start_time": "2020-08-19T04:12:07.283304Z"
    }
   },
   "outputs": [],
   "source": [
    "#pre-processing\n",
    "def clean_str(string):\n",
    "    \"\"\"\n",
    "    Tokenization/string cleaning for dataset\n",
    "    Every dataset is lower cased except\n",
    "    \"\"\"\n",
    "    string = re.sub(r\"\\n\", \"\", string)  \n",
    "    string = re.sub(r\"\\\\n\", \"\", string) \n",
    "    string = re.sub(r\"\\r\", \"\", string) \n",
    "    string = re.sub(r\"[0-9]\", \"digit\", string)\n",
    "    string = re.sub(r\"\\'\", \"\", string)    \n",
    "    string = re.sub(r\"\\\"\", \"\", string) \n",
    "    string = re.sub(r\"\\\\'\", \"\", string)    \n",
    "    string = re.sub(r\"\\\\\", \"\", string) \n",
    "    string = re.sub(r\"--\", \"\", string)\n",
    "    return string.strip().lower()\n",
    "\n",
    "\n",
    "X = []\n",
    "for i in range(enron_final.shape[0]):\n",
    "    X.append(clean_str(enron_final.iloc[i][0]))\n",
    "y = np.array(enron_final[\"Label\"])\n",
    "\n",
    "enron_str = clean_str(str(enron_final[\"EmailContent\"]))\n",
    "enron_str = pd.DataFrame(X)\n",
    "enron_str.columns = [\"EmailContent\"]"
   ]
  },
  {
   "cell_type": "code",
   "execution_count": 28,
   "metadata": {
    "ExecuteTime": {
     "end_time": "2020-08-19T13:22:13.247709Z",
     "start_time": "2020-08-19T13:19:44.874805Z"
    }
   },
   "outputs": [
    {
     "name": "stdout",
     "output_type": "stream",
     "text": [
      "linearsvcO:  0.6917\n",
      "linearsvcO params:  {'tfidf__use_idf': True, 'vectorizer__ngram_range': (1, 1)}\n"
     ]
    }
   ],
   "source": [
    "#pipeline of feature engineering and model\n",
    "model = Pipeline([(\"vectorizer\", CountVectorizer()), (\"tfidf\", TfidfTransformer()),\n",
    "                  (\"linearsvcO\", OneVsRestClassifier(LinearSVC(multi_class=\"ovr\")))])\n",
    "#the class_weight=\"balanced\" option tries to remove the biasedness of model towards majority sample\n",
    "\n",
    "#paramater selection\n",
    "parameters = {'vectorizer__ngram_range': [(1, 1), (1, 2),(2,2)],\n",
    "               'tfidf__use_idf': (True, False)}\n",
    "gs_clf_svm = GridSearchCV(model, parameters, n_jobs=-1)\n",
    "gs_clf_svm = gs_clf_svm.fit(X[:10000], y[:10000])\n",
    "print(\"linearsvcO: \", gs_clf_svm.best_score_)\n",
    "print(\"linearsvcO params: \", gs_clf_svm.best_params_)"
   ]
  },
  {
   "cell_type": "code",
   "execution_count": 29,
   "metadata": {
    "ExecuteTime": {
     "end_time": "2020-08-19T13:23:36.842775Z",
     "start_time": "2020-08-19T13:22:13.252083Z"
    }
   },
   "outputs": [
    {
     "name": "stdout",
     "output_type": "stream",
     "text": [
      "BERN:  0.5341999999999999\n",
      "BERN params:  {'tfidf__use_idf': True, 'vectorizer__ngram_range': (1, 1)}\n"
     ]
    }
   ],
   "source": [
    "#pipeline of feature engineering and model\n",
    "model = Pipeline([(\"vectorizer\", CountVectorizer()), (\"tfidf\", TfidfTransformer()),\n",
    "                  (\"BERN\", OneVsRestClassifier(BernoulliNB()))])\n",
    "#the class_weight=\"balanced\" option tries to remove the biasedness of model towards majority sample\n",
    "\n",
    "#paramater selection\n",
    "parameters = {'vectorizer__ngram_range': [(1, 1), (1, 2),(2,2)],\n",
    "               'tfidf__use_idf': (True, False)}\n",
    "gs_clf_svm = GridSearchCV(model, parameters, n_jobs=-1)\n",
    "gs_clf_svm = gs_clf_svm.fit(X[:10000], y[:10000])\n",
    "print(\"BERN: \", gs_clf_svm.best_score_)\n",
    "print(\"BERN params: \", gs_clf_svm.best_params_)"
   ]
  },
  {
   "cell_type": "code",
   "execution_count": 30,
   "metadata": {
    "ExecuteTime": {
     "end_time": "2020-08-19T15:22:15.262704Z",
     "start_time": "2020-08-19T13:23:36.849062Z"
    }
   },
   "outputs": [
    {
     "name": "stdout",
     "output_type": "stream",
     "text": [
      "DT:  0.7253000000000001\n",
      "DT params:  {'tfidf__use_idf': False, 'vectorizer__ngram_range': (1, 1)}\n"
     ]
    }
   ],
   "source": [
    "#pipeline of feature engineering and model\n",
    "model = Pipeline([(\"vectorizer\", CountVectorizer()), (\"tfidf\", TfidfTransformer()),\n",
    "                  (\"DT\", OneVsRestClassifier(DecisionTreeClassifier()))])\n",
    "#the class_weight=\"balanced\" option tries to remove the biasedness of model towards majority sample\n",
    "\n",
    "#paramater selection\n",
    "parameters = {'vectorizer__ngram_range': [(1, 1), (1, 2),(2,2)],\n",
    "               'tfidf__use_idf': (True, False)}\n",
    "gs_clf_svm = GridSearchCV(model, parameters, n_jobs=-1)\n",
    "gs_clf_svm = gs_clf_svm.fit(X[:10000], y[:10000])\n",
    "print(\"DT: \", gs_clf_svm.best_score_)\n",
    "print(\"DT params: \", gs_clf_svm.best_params_)"
   ]
  },
  {
   "cell_type": "code",
   "execution_count": 31,
   "metadata": {
    "ExecuteTime": {
     "end_time": "2020-08-19T15:24:37.980355Z",
     "start_time": "2020-08-19T15:22:15.269382Z"
    }
   },
   "outputs": [
    {
     "name": "stdout",
     "output_type": "stream",
     "text": [
      "ET:  0.6022000000000001\n",
      "ET params:  {'tfidf__use_idf': True, 'vectorizer__ngram_range': (1, 2)}\n"
     ]
    }
   ],
   "source": [
    "#pipeline of feature engineering and model\n",
    "model = Pipeline([(\"vectorizer\", CountVectorizer()), (\"tfidf\", TfidfTransformer()),\n",
    "                  (\"ET\", OneVsRestClassifier(ExtraTreeClassifier()))])\n",
    "#the class_weight=\"balanced\" option tries to remove the biasedness of model towards majority sample\n",
    "\n",
    "#paramater selection\n",
    "parameters = {'vectorizer__ngram_range': [(1, 1), (1, 2),(2,2)],\n",
    "               'tfidf__use_idf': (True, False)}\n",
    "gs_clf_svm = GridSearchCV(model, parameters, n_jobs=-1)\n",
    "gs_clf_svm = gs_clf_svm.fit(X[:10000], y[:10000])\n",
    "print(\"ET: \", gs_clf_svm.best_score_)\n",
    "print(\"ET params: \", gs_clf_svm.best_params_)"
   ]
  },
  {
   "cell_type": "code",
   "execution_count": 32,
   "metadata": {
    "ExecuteTime": {
     "end_time": "2020-08-19T16:48:34.125932Z",
     "start_time": "2020-08-19T15:24:37.983985Z"
    }
   },
   "outputs": [
    {
     "name": "stdout",
     "output_type": "stream",
     "text": [
      "ETS:  0.6967\n",
      "ETS params:  {'tfidf__use_idf': True, 'vectorizer__ngram_range': (1, 1)}\n"
     ]
    }
   ],
   "source": [
    "#pipeline of feature engineering and model\n",
    "model = Pipeline([(\"vectorizer\", CountVectorizer()), (\"tfidf\", TfidfTransformer()),\n",
    "                  (\"ETS\", OneVsRestClassifier(ExtraTreesClassifier()))])\n",
    "#the class_weight=\"balanced\" option tries to remove the biasedness of model towards majority sample\n",
    "\n",
    "#paramater selection\n",
    "parameters = {'vectorizer__ngram_range': [(1, 1), (1, 2),(2,2)],\n",
    "               'tfidf__use_idf': (True, False)}\n",
    "gs_clf_svm = GridSearchCV(model, parameters, n_jobs=-1)\n",
    "gs_clf_svm = gs_clf_svm.fit(X[:10000], y[:10000])\n",
    "print(\"ETS: \", gs_clf_svm.best_score_)\n",
    "print(\"ETS params: \", gs_clf_svm.best_params_)"
   ]
  },
  {
   "cell_type": "code",
   "execution_count": 34,
   "metadata": {
    "ExecuteTime": {
     "end_time": "2020-08-19T16:53:00.229765Z",
     "start_time": "2020-08-19T16:48:34.166278Z"
    }
   },
   "outputs": [
    {
     "name": "stdout",
     "output_type": "stream",
     "text": [
      "KNN:  0.4542\n",
      "KNN params:  {'tfidf__use_idf': True, 'vectorizer__ngram_range': (1, 1)}\n"
     ]
    }
   ],
   "source": [
    "#pipeline of feature engineering and model\n",
    "model = Pipeline([(\"vectorizer\", CountVectorizer()), (\"tfidf\", TfidfTransformer()),\n",
    "                  (\"KNN\", OneVsRestClassifier(KNeighborsClassifier()))])\n",
    "#the class_weight=\"balanced\" option tries to remove the biasedness of model towards majority sample\n",
    "\n",
    "#paramater selection\n",
    "parameters = {'vectorizer__ngram_range': [(1, 1), (1, 2),(2,2)],\n",
    "               'tfidf__use_idf': (True, False)}\n",
    "gs_clf_svm = GridSearchCV(model, parameters, n_jobs=-1)\n",
    "gs_clf_svm = gs_clf_svm.fit(X[:10000], y[:10000])\n",
    "print(\"KNN: \", gs_clf_svm.best_score_)\n",
    "print(\"KNN params: \", gs_clf_svm.best_params_)"
   ]
  },
  {
   "cell_type": "code",
   "execution_count": 38,
   "metadata": {
    "ExecuteTime": {
     "end_time": "2020-08-19T18:01:42.229095Z",
     "start_time": "2020-08-19T16:53:00.318049Z"
    }
   },
   "outputs": [
    {
     "name": "stderr",
     "output_type": "stream",
     "text": [
      "/opt/anaconda3/lib/python3.7/site-packages/sklearn/svm/_base.py:947: ConvergenceWarning:\n",
      "\n",
      "Liblinear failed to converge, increase the number of iterations.\n",
      "\n"
     ]
    },
    {
     "name": "stdout",
     "output_type": "stream",
     "text": [
      "linearsvc:  0.6788000000000001\n",
      "linearsvc params:  {'tfidf__use_idf': False, 'vectorizer__ngram_range': (1, 2)}\n"
     ]
    }
   ],
   "source": [
    "#pipeline of feature engineering and model\n",
    "model = Pipeline([(\"vectorizer\", CountVectorizer()), (\"tfidf\", TfidfTransformer()),\n",
    "                  (\"linearsvc\", OneVsRestClassifier(LinearSVC(multi_class=\"crammer_singer\")))])\n",
    "#the class_weight=\"balanced\" option tries to remove the biasedness of model towards majority sample\n",
    "\n",
    "#paramater selection\n",
    "parameters = {'vectorizer__ngram_range': [(1, 1), (1, 2),(2,2)],\n",
    "               'tfidf__use_idf': (True, False)}\n",
    "gs_clf_svm = GridSearchCV(model, parameters, n_jobs=-1)\n",
    "gs_clf_svm = gs_clf_svm.fit(X[:10000], y[:10000])\n",
    "print(\"linearsvc: \", gs_clf_svm.best_score_)\n",
    "print(\"linearsvc params: \", gs_clf_svm.best_params_)"
   ]
  },
  {
   "cell_type": "code",
   "execution_count": 39,
   "metadata": {
    "ExecuteTime": {
     "end_time": "2020-08-19T18:29:06.574813Z",
     "start_time": "2020-08-19T18:01:42.245370Z"
    }
   },
   "outputs": [
    {
     "name": "stdout",
     "output_type": "stream",
     "text": [
      "LRM:  0.6593\n",
      "LRM params:  {'tfidf__use_idf': True, 'vectorizer__ngram_range': (1, 1)}\n"
     ]
    }
   ],
   "source": [
    "#pipeline of feature engineering and model\n",
    "model = Pipeline([(\"vectorizer\", CountVectorizer()), (\"tfidf\", TfidfTransformer()),\n",
    "                  (\"LRM\", OneVsRestClassifier(LogisticRegression(multi_class=\"multinomial\")))])\n",
    "#the class_weight=\"balanced\" option tries to remove the biasedness of model towards majority sample\n",
    "\n",
    "#paramater selection\n",
    "parameters = {'vectorizer__ngram_range': [(1, 1), (1, 2),(2,2)],\n",
    "               'tfidf__use_idf': (True, False)}\n",
    "gs_clf_svm = GridSearchCV(model, parameters, n_jobs=-1)\n",
    "gs_clf_svm = gs_clf_svm.fit(X[:10000], y[:10000])\n",
    "print(\"LRM: \", gs_clf_svm.best_score_)\n",
    "print(\"LRM params: \", gs_clf_svm.best_params_)"
   ]
  },
  {
   "cell_type": "code",
   "execution_count": null,
   "metadata": {
    "ExecuteTime": {
     "start_time": "2020-08-19T22:03:10.293Z"
    }
   },
   "outputs": [],
   "source": [
    "#pipeline of feature engineering and model\n",
    "model = Pipeline([(\"vectorizer\", CountVectorizer()), (\"tfidf\", TfidfTransformer()),\n",
    "                  (\"RF\", OneVsRestClassifier(RandomForestClassifier()))])\n",
    "#the class_weight=\"balanced\" option tries to remove the biasedness of model towards majority sample\n",
    "\n",
    "#paramater selection\n",
    "parameters = {'vectorizer__ngram_range': [(1, 1), (1, 2),(2,2)],\n",
    "               'tfidf__use_idf': (True, False)}\n",
    "gs_clf_svm = GridSearchCV(model, parameters, n_jobs=-1)\n",
    "gs_clf_svm = gs_clf_svm.fit(X[:10000], y[:10000])\n",
    "print(\"RF: \", gs_clf_svm.best_score_)\n",
    "print(\"RF params: \", gs_clf_svm.best_params_)"
   ]
  },
  {
   "cell_type": "code",
   "execution_count": null,
   "metadata": {
    "ExecuteTime": {
     "start_time": "2020-08-19T22:03:10.297Z"
    }
   },
   "outputs": [],
   "source": [
    "#pipeline of feature engineering and model\n",
    "model = Pipeline([(\"vectorizer\", CountVectorizer()), (\"tfidf\", TfidfTransformer()),\n",
    "                  (\"RC\", OneVsRestClassifier(RidgeClassifier()))])\n",
    "#the class_weight=\"balanced\" option tries to remove the biasedness of model towards majority sample\n",
    "\n",
    "#paramater selection\n",
    "parameters = {'vectorizer__ngram_range': [(1, 1), (1, 2),(2,2)],\n",
    "               'tfidf__use_idf': (True, False)}\n",
    "gs_clf_svm = GridSearchCV(model, parameters, n_jobs=-1)\n",
    "gs_clf_svm = gs_clf_svm.fit(X[:10000], y[:10000])\n",
    "print(\"RC: \", gs_clf_svm.best_score_)\n",
    "print(\"RC params: \", gs_clf_svm.best_params_)"
   ]
  },
  {
   "cell_type": "code",
   "execution_count": null,
   "metadata": {
    "ExecuteTime": {
     "start_time": "2020-08-19T22:03:10.301Z"
    }
   },
   "outputs": [],
   "source": [
    "#pipeline of feature engineering and model\n",
    "model = Pipeline([(\"vectorizer\", CountVectorizer()), (\"tfidf\", TfidfTransformer()),\n",
    "                  (\"RCCV\", OneVsRestClassifier(RidgeClassifierCV()))])\n",
    "#the class_weight=\"balanced\" option tries to remove the biasedness of model towards majority sample\n",
    "\n",
    "#paramater selection\n",
    "parameters = {'vectorizer__ngram_range': [(1, 1), (1, 2),(2,2)],\n",
    "               'tfidf__use_idf': (True, False)}\n",
    "gs_clf_svm = GridSearchCV(model, parameters, n_jobs=-1)\n",
    "gs_clf_svm = gs_clf_svm.fit(X[:10000], y[:10000])\n",
    "print(\"RCCV: \", gs_clf_svm.best_score_)\n",
    "print(\"RCCV params: \", gs_clf_svm.best_params_)"
   ]
  },
  {
   "cell_type": "code",
   "execution_count": null,
   "metadata": {
    "ExecuteTime": {
     "start_time": "2020-08-19T22:03:10.311Z"
    }
   },
   "outputs": [],
   "source": [
    "#pipeline of feature engineering and model\n",
    "model = Pipeline([(\"vectorizer\", CountVectorizer()), (\"tfidf\", TfidfTransformer()),\n",
    "                  (\"SVC\", OneVsRestClassifier(SVC()))])\n",
    "#the class_weight=\"balanced\" option tries to remove the biasedness of model towards majority sample\n",
    "\n",
    "#paramater selection\n",
    "parameters = {'vectorizer__ngram_range': [(1, 1), (1, 2),(2,2)],\n",
    "               'tfidf__use_idf': (True, False)}\n",
    "gs_clf_svm = GridSearchCV(model, parameters, n_jobs=-1)\n",
    "gs_clf_svm = gs_clf_svm.fit(X[:10000], y[:10000])\n",
    "print(\"SVC: \", gs_clf_svm.best_score_)\n",
    "print(\"SVC params: \", gs_clf_svm.best_params_)"
   ]
  },
  {
   "cell_type": "code",
   "execution_count": null,
   "metadata": {
    "ExecuteTime": {
     "start_time": "2020-08-19T22:03:10.320Z"
    }
   },
   "outputs": [],
   "source": [
    "#pipeline of feature engineering and model\n",
    "model = Pipeline([(\"vectorizer\", CountVectorizer()), (\"tfidf\", TfidfTransformer()),\n",
    "                  (\"GBC\", OneVsRestClassifier(GradientBoostingClassifier()))]) #XGBOOSTING\n",
    "#the class_weight=\"balanced\" option tries to remove the biasedness of model towards majority sample\n",
    "\n",
    "#paramater selection\n",
    "parameters = {'vectorizer__ngram_range': [(1, 1), (1, 2),(2,2)],\n",
    "               'tfidf__use_idf': (True, False)}\n",
    "gs_clf_svm = GridSearchCV(model, parameters, n_jobs=-1)\n",
    "gs_clf_svm = gs_clf_svm.fit(X[:10000], y[:10000])\n",
    "print(\"GBC: \", gs_clf_svm.best_score_)\n",
    "print(\"GBC params: \", gs_clf_svm.best_params_)"
   ]
  },
  {
   "cell_type": "code",
   "execution_count": null,
   "metadata": {
    "ExecuteTime": {
     "start_time": "2020-08-19T22:03:10.329Z"
    }
   },
   "outputs": [],
   "source": [
    "#pipeline of feature engineering and model\n",
    "model = Pipeline([(\"vectorizer\", CountVectorizer()), (\"tfidf\", TfidfTransformer()),\n",
    "                  (\"LRO\", OneVsRestClassifier(LogisticRegression(multi_class=\"ovr\")))])\n",
    "#the class_weight=\"balanced\" option tries to remove the biasedness of model towards majority sample\n",
    "\n",
    "#paramater selection\n",
    "parameters = {'vectorizer__ngram_range': [(1, 1), (1, 2),(2,2)],\n",
    "               'tfidf__use_idf': (True, False)}\n",
    "gs_clf_svm = GridSearchCV(model, parameters, n_jobs=-1)\n",
    "gs_clf_svm = gs_clf_svm.fit(X[:10000], y[:10000])\n",
    "print(\"LRO: \", gs_clf_svm.best_score_)\n",
    "print(\"LRO params: \", gs_clf_svm.best_params_)"
   ]
  },
  {
   "cell_type": "code",
   "execution_count": null,
   "metadata": {
    "ExecuteTime": {
     "start_time": "2020-08-19T22:03:10.332Z"
    }
   },
   "outputs": [],
   "source": [
    "#pipeline of feature engineering and model\n",
    "model = Pipeline([(\"vectorizer\", CountVectorizer()), (\"tfidf\", TfidfTransformer()),\n",
    "                  (\"SGDC\", OneVsRestClassifier(SGDClassifier()))])\n",
    "#the class_weight=\"balanced\" option tries to remove the biasedness of model towards majority sample\n",
    "\n",
    "#paramater selection\n",
    "parameters = {'vectorizer__ngram_range': [(1, 1), (1, 2),(2,2)],\n",
    "               'tfidf__use_idf': (True, False)}\n",
    "gs_clf_svm = GridSearchCV(model, parameters, n_jobs=-1)\n",
    "gs_clf_svm = gs_clf_svm.fit(X[:10000], y[:10000])\n",
    "print(\"SGDC: \", gs_clf_svm.best_score_)\n",
    "print(\"SGDC params: \", gs_clf_svm.best_params_)"
   ]
  },
  {
   "cell_type": "code",
   "execution_count": null,
   "metadata": {
    "ExecuteTime": {
     "start_time": "2020-08-19T22:03:10.336Z"
    }
   },
   "outputs": [],
   "source": [
    "#pipeline of feature engineering and model\n",
    "model = Pipeline([(\"vectorizer\", CountVectorizer()), (\"tfidf\", TfidfTransformer()),\n",
    "                  (\"PER\", OneVsRestClassifier(Perceptron()))])\n",
    "#the class_weight=\"balanced\" option tries to remove the biasedness of model towards majority sample\n",
    "\n",
    "#paramater selection\n",
    "parameters = {'vectorizer__ngram_range': [(1, 1), (1, 2),(2,2)],\n",
    "               'tfidf__use_idf': (True, False)}\n",
    "gs_clf_svm = GridSearchCV(model, parameters, n_jobs=-1)\n",
    "gs_clf_svm = gs_clf_svm.fit(X[:10000], y[:10000])\n",
    "print(\"PER: \", gs_clf_svm.best_score_)\n",
    "print(\"PER params: \", gs_clf_svm.best_params_)"
   ]
  },
  {
   "cell_type": "code",
   "execution_count": null,
   "metadata": {
    "ExecuteTime": {
     "start_time": "2020-08-19T22:03:10.341Z"
    }
   },
   "outputs": [],
   "source": [
    "#pipeline of feature engineering and model\n",
    "model = Pipeline([(\"vectorizer\", CountVectorizer()), (\"tfidf\", TfidfTransformer()),\n",
    "                  (\"PAC\", OneVsRestClassifier(PassiveAggressiveClassifier()))])\n",
    "#the class_weight=\"balanced\" option tries to remove the biasedness of model towards majority sample\n",
    "\n",
    "#paramater selection\n",
    "parameters = {'vectorizer__ngram_range': [(1, 1), (1, 2),(2,2)],\n",
    "               'tfidf__use_idf': (True, False)}\n",
    "gs_clf_svm = GridSearchCV(model, parameters, n_jobs=-1)\n",
    "gs_clf_svm = gs_clf_svm.fit(X[:10000], y[:10000])\n",
    "print(\"PAC: \", gs_clf_svm.best_score_)\n",
    "print(\"PAC params: \", gs_clf_svm.best_params_)"
   ]
  }
 ],
 "metadata": {
  "kernelspec": {
   "display_name": "Python 3",
   "language": "python",
   "name": "python3"
  },
  "language_info": {
   "codemirror_mode": {
    "name": "ipython",
    "version": 3
   },
   "file_extension": ".py",
   "mimetype": "text/x-python",
   "name": "python",
   "nbconvert_exporter": "python",
   "pygments_lexer": "ipython3",
   "version": "3.8.3"
  },
  "latex_envs": {
   "LaTeX_envs_menu_present": true,
   "autoclose": false,
   "autocomplete": true,
   "bibliofile": "biblio.bib",
   "cite_by": "apalike",
   "current_citInitial": 1,
   "eqLabelWithNumbers": true,
   "eqNumInitial": 1,
   "hotkeys": {
    "equation": "Ctrl-E",
    "itemize": "Ctrl-I"
   },
   "labels_anchors": false,
   "latex_user_defs": false,
   "report_style_numbering": false,
   "user_envs_cfg": false
  },
  "toc": {
   "base_numbering": 1,
   "nav_menu": {},
   "number_sections": true,
   "sideBar": true,
   "skip_h1_title": false,
   "title_cell": "Table of Contents",
   "title_sidebar": "Contents",
   "toc_cell": true,
   "toc_position": {},
   "toc_section_display": true,
   "toc_window_display": false
  }
 },
 "nbformat": 4,
 "nbformat_minor": 4
}
