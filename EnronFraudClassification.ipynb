{
 "cells": [
  {
   "cell_type": "markdown",
   "metadata": {
    "toc": true
   },
   "source": [
    "<h1>Table of Contents<span class=\"tocSkip\"></span></h1>\n",
    "<div class=\"toc\"><ul class=\"toc-item\"><li><span><a href=\"#Creating-the-environment\" data-toc-modified-id=\"Creating-the-environment-1\"><span class=\"toc-item-num\">1&nbsp;&nbsp;</span>Creating the environment</a></span><ul class=\"toc-item\"><li><span><a href=\"#Installing-libraries\" data-toc-modified-id=\"Installing-libraries-1.1\"><span class=\"toc-item-num\">1.1&nbsp;&nbsp;</span>Installing libraries</a></span></li><li><span><a href=\"#Importing-modules\" data-toc-modified-id=\"Importing-modules-1.2\"><span class=\"toc-item-num\">1.2&nbsp;&nbsp;</span>Importing modules</a></span></li><li><span><a href=\"#Checking-system-and-setting-it-up\" data-toc-modified-id=\"Checking-system-and-setting-it-up-1.3\"><span class=\"toc-item-num\">1.3&nbsp;&nbsp;</span>Checking system and setting it up</a></span></li></ul></li><li><span><a href=\"#Data-Exploration\" data-toc-modified-id=\"Data-Exploration-2\"><span class=\"toc-item-num\">2&nbsp;&nbsp;</span>Data Exploration</a></span><ul class=\"toc-item\"><li><span><a href=\"#Data-Preprocessing-&amp;-Feature-Extraction\" data-toc-modified-id=\"Data-Preprocessing-&amp;-Feature-Extraction-2.1\"><span class=\"toc-item-num\">2.1&nbsp;&nbsp;</span>Data Preprocessing &amp; Feature Extraction</a></span></li><li><span><a href=\"#Removing-email-sent-outside-of-working-hours-(7pm---7am)\" data-toc-modified-id=\"Removing-email-sent-outside-of-working-hours-(7pm---7am)-2.2\"><span class=\"toc-item-num\">2.2&nbsp;&nbsp;</span>Removing email sent outside of working hours (7pm - 7am)</a></span></li><li><span><a href=\"#E-mail's-spam----1st-cleaning\" data-toc-modified-id=\"E-mail's-spam----1st-cleaning-2.3\"><span class=\"toc-item-num\">2.3&nbsp;&nbsp;</span>E-mail's spam -- 1st cleaning</a></span></li><li><span><a href=\"#2nd-cleaning\" data-toc-modified-id=\"2nd-cleaning-2.4\"><span class=\"toc-item-num\">2.4&nbsp;&nbsp;</span>2nd cleaning</a></span></li></ul></li><li><span><a href=\"#Logistic-Regression----Spam-/-Non-Spam-Classification\" data-toc-modified-id=\"Logistic-Regression----Spam-/-Non-Spam-Classification-3\"><span class=\"toc-item-num\">3&nbsp;&nbsp;</span>Logistic Regression -- Spam / Non-Spam Classification</a></span></li><li><span><a href=\"#K-Means-Clustering-for-subclass-labels\" data-toc-modified-id=\"K-Means-Clustering-for-subclass-labels-4\"><span class=\"toc-item-num\">4&nbsp;&nbsp;</span>K-Means Clustering for subclass labels</a></span><ul class=\"toc-item\"><li><span><a href=\"#Subclass-labelling-automation\" data-toc-modified-id=\"Subclass-labelling-automation-4.1\"><span class=\"toc-item-num\">4.1&nbsp;&nbsp;</span>Subclass labelling automation</a></span></li><li><span><a href=\"#Email-Content----3rd-cleaning\" data-toc-modified-id=\"Email-Content----3rd-cleaning-4.2\"><span class=\"toc-item-num\">4.2&nbsp;&nbsp;</span>Email Content -- 3rd cleaning</a></span></li></ul></li><li><span><a href=\"#Data-validation\" data-toc-modified-id=\"Data-validation-5\"><span class=\"toc-item-num\">5&nbsp;&nbsp;</span>Data validation</a></span></li><li><span><a href=\"#ML-for-multiclass-labelling\" data-toc-modified-id=\"ML-for-multiclass-labelling-6\"><span class=\"toc-item-num\">6&nbsp;&nbsp;</span>ML for multiclass labelling</a></span><ul class=\"toc-item\"><li><span><a href=\"#ML-Pipeline\" data-toc-modified-id=\"ML-Pipeline-6.1\"><span class=\"toc-item-num\">6.1&nbsp;&nbsp;</span>ML Pipeline</a></span></li></ul></li></ul></div>"
   ]
  },
  {
   "cell_type": "markdown",
   "metadata": {},
   "source": [
    "# Creating the environment "
   ]
  },
  {
   "cell_type": "markdown",
   "metadata": {},
   "source": [
    "## Installing libraries"
   ]
  },
  {
   "cell_type": "code",
   "execution_count": 1,
   "metadata": {
    "ExecuteTime": {
     "end_time": "2020-08-21T02:46:51.335300Z",
     "start_time": "2020-08-21T02:46:51.323948Z"
    }
   },
   "outputs": [],
   "source": [
    "# Installing modules\n",
    "# !pip install datetime"
   ]
  },
  {
   "cell_type": "markdown",
   "metadata": {},
   "source": [
    "## Importing modules"
   ]
  },
  {
   "cell_type": "code",
   "execution_count": 2,
   "metadata": {
    "ExecuteTime": {
     "end_time": "2020-08-21T02:47:09.980632Z",
     "start_time": "2020-08-21T02:46:51.630842Z"
    }
   },
   "outputs": [
    {
     "name": "stdout",
     "output_type": "stream",
     "text": [
      "Importing libraries ... \n",
      "All modules are ready\n"
     ]
    }
   ],
   "source": [
    "\n",
    "# Importing libraries\n",
    "print(\"Importing libraries ... \")\n",
    "import pandas as pd\n",
    "import numpy as np\n",
    "from collections import Counter\n",
    "from datetime import datetime, time\n",
    "import vaex, email, re, string, nltk\n",
    "\n",
    "from nltk.corpus import stopwords\n",
    "from nltk.stem import PorterStemmer, WordNetLemmatizer\n",
    "\n",
    "from sklearn.cluster import KMeans\n",
    "from sklearn.pipeline import Pipeline\n",
    "from sklearn.metrics import accuracy_score, classification_report, adjusted_rand_score\n",
    "from sklearn.tree import DecisionTreeClassifier\n",
    "from sklearn.multiclass import OneVsRestClassifier\n",
    "from sklearn.linear_model import LogisticRegression\n",
    "from sklearn.model_selection import train_test_split, GridSearchCV, KFold, cross_val_score, cross_val_predict\n",
    "from sklearn.feature_extraction.text import CountVectorizer, TfidfTransformer, TfidfVectorizer\n",
    "\n",
    "import seaborn as sns\n",
    "import matplotlib.pyplot as plt\n",
    "import plotly.graph_objs as go\n",
    "import plotly.offline as py\n",
    "print(\"All modules are ready\")\n"
   ]
  },
  {
   "cell_type": "markdown",
   "metadata": {},
   "source": [
    "## Checking system and setting it up"
   ]
  },
  {
   "cell_type": "code",
   "execution_count": 3,
   "metadata": {
    "ExecuteTime": {
     "end_time": "2020-08-21T02:47:10.039409Z",
     "start_time": "2020-08-21T02:47:09.991149Z"
    }
   },
   "outputs": [
    {
     "name": "stdout",
     "output_type": "stream",
     "text": [
      "Python version:  3.7.6 (default, Jan  8 2020, 13:42:34) \n",
      "[Clang 4.0.1 (tags/RELEASE_401/final)] \n",
      "\n",
      "This kernel has  4 cores and memory usage of: svmem(total=8589934592, available=2923667456, percent=66.0, used=4386410496, free=27910144, active=2895020032, inactive=2793672704, wired=1491390464) \n",
      "\n",
      "File directory /Users/speedy/Desktop/UofT/Course load/INF2179H - Machine Learning/Notebooks\n"
     ]
    }
   ],
   "source": [
    "# Setting up the system\n",
    "\n",
    "def settings():\n",
    "    # Display python version and operational system-specif parameters \n",
    "    import sys\n",
    "    print(\"Python version: \", sys.version, \"\\n\")\n",
    "\n",
    "    # Check the number of cores and memory usage\n",
    "    import multiprocessing as mp\n",
    "    num_cores = mp.cpu_count()\n",
    "    import psutil\n",
    "    print(\"This kernel has \", num_cores, \"cores and memory usage of:\", psutil.virtual_memory(), \"\\n\")\n",
    "\n",
    "    # # Check Dask and Hosting the diagnostics dashboard\n",
    "    # cluster = LocalCluster()\n",
    "    # client = Client(cluster)\n",
    "    # client\n",
    "\n",
    "    # Expands the visualization of a matrix\n",
    "    pd.set_option(\"display.max_columns\", 500)\n",
    "    pd.set_option(\"display.max_rows\", 500)\n",
    "    pd.set_option(\"display.width\", 500)\n",
    "    \n",
    "    #Checking the directory we are working on\n",
    "    import os\n",
    "    print(\"File directory\", os.getcwd())\n",
    "\n",
    "settings()"
   ]
  },
  {
   "cell_type": "markdown",
   "metadata": {},
   "source": [
    "# Data Exploration"
   ]
  },
  {
   "cell_type": "markdown",
   "metadata": {},
   "source": [
    "## Data Preprocessing & Feature Extraction "
   ]
  },
  {
   "cell_type": "code",
   "execution_count": 4,
   "metadata": {
    "ExecuteTime": {
     "end_time": "2020-08-21T02:51:10.086503Z",
     "start_time": "2020-08-21T02:47:10.058778Z"
    }
   },
   "outputs": [],
   "source": [
    "# Loading dataset\n",
    "file_path = \"/Users/speedy/Desktop/UofT/Course load/INF2179H - Machine Learning/Notebooks/Data/\"\n",
    "file_name = \"emails.csv\"\n",
    "file = pd.read_csv(file_path + file_name)\n",
    "\n",
    "# Processing it into columns\n",
    "body = file[\"message\"]\n",
    "columns = [\"subject\",\"Date\",\"X-From\",\"X-To\",\"X-cc\", \"X-bcc\", \"X-Folder\", \"X-FileName\", \"From\",\"To\",\"Content-Type\", \"MsgContent\"]\n",
    "def getheaders(doc):\n",
    "    table = []\n",
    "    for i in doc:\n",
    "        e = email.message_from_string(i)\n",
    "        arr = []\n",
    "        for j in columns:\n",
    "            if j == \"MsgContent\":\n",
    "                e.get_payload()\n",
    "                arr.append(e.get_payload())\n",
    "            elif (j == \"X-From\" or j == \"X-To\") and e[j]:\n",
    "                arr.append(e[j][:e[j].find(\"<\")])\n",
    "            else:\n",
    "                arr.append(e[j])\n",
    "        table.append(arr)\n",
    "    return table\n",
    "\n",
    "res = getheaders(body)\n",
    "email = pd.DataFrame(res, columns = columns)\n",
    "email.columns = [\"Subject\",\"Date\",\"From(Name)\",\"To(Name)\",\"CC\", \"BCC\", \"Folder\", \"FileName\", \"From(email)\",\"To(email)\",\"ContentType\", \"EmailContent\"]\n",
    "\n",
    "# # Saving the clean data in a new .csv file\n",
    "# email.to_csv(file_path + \"email_clean.csv\")\n",
    "\n",
    "# Opening and storing the clean data in a variable for investigation\n",
    "# email_clean = pd.read_csv(file_path + \"email_clean.csv\").drop(columns=\"Unnamed: 0\")\n"
   ]
  },
  {
   "cell_type": "code",
   "execution_count": 5,
   "metadata": {
    "ExecuteTime": {
     "end_time": "2020-08-21T02:51:10.367388Z",
     "start_time": "2020-08-21T02:51:10.124170Z"
    }
   },
   "outputs": [
    {
     "data": {
      "text/plain": [
       "'test successful.  way to go!!!'"
      ]
     },
     "execution_count": 5,
     "metadata": {},
     "output_type": "execute_result"
    }
   ],
   "source": [
    "msg = email[\"EmailContent\"][2]\n",
    "msg"
   ]
  },
  {
   "cell_type": "code",
   "execution_count": 6,
   "metadata": {
    "ExecuteTime": {
     "end_time": "2020-08-21T02:51:10.748147Z",
     "start_time": "2020-08-21T02:51:10.399827Z"
    }
   },
   "outputs": [
    {
     "data": {
      "text/plain": [
       "Kay Man                     16324\n",
       "Vince J Kaminsk             14367\n",
       "Jeff Dasovic                 9701\n",
       "Enron Announcement           8535\n",
       "Tana Jone                    8105\n",
       "                            ...  \n",
       "Anthony Mlynarz                 1\n",
       "Alex.A.Molinaroli@jci.co        1\n",
       "Merritt, Jeremy                 1\n",
       "Williams, Wilma                 1\n",
       "Keenan, Sean                    1\n",
       "Name: From(Name), Length: 24263, dtype: int64"
      ]
     },
     "execution_count": 6,
     "metadata": {},
     "output_type": "execute_result"
    }
   ],
   "source": [
    "# Getting unique emails sent by From(Name)\n",
    "email.iloc[:, 2].value_counts()\n"
   ]
  },
  {
   "cell_type": "code",
   "execution_count": 7,
   "metadata": {
    "ExecuteTime": {
     "end_time": "2020-08-21T02:51:11.197720Z",
     "start_time": "2020-08-21T02:51:10.758490Z"
    }
   },
   "outputs": [
    {
     "data": {
      "text/plain": [
       "                                          17253\n",
       "pete.davis@enron.co                        5334\n",
       "vkaminski@aol.co                           4125\n",
       "Tana Jone                                  4099\n",
       "Davis, Pete                                3821\n",
       "                                          ...  \n",
       "'kmcguinn@gsb.uchicago.edu                    1\n",
       "'fokrasin@trigen.com                          1\n",
       "Friends of the Milken Institute               1\n",
       "'\"Jose E. Figueroa-Lopez\"                     1\n",
       "'kevin.wellenius@frontiereconomics.com        1\n",
       "Name: To(Name), Length: 48791, dtype: int64"
      ]
     },
     "execution_count": 7,
     "metadata": {},
     "output_type": "execute_result"
    }
   ],
   "source": [
    "# Getting unique emails received by To(Name)\n",
    "email.iloc[:, 3].value_counts()\n"
   ]
  },
  {
   "cell_type": "code",
   "execution_count": 9,
   "metadata": {
    "ExecuteTime": {
     "end_time": "2020-08-21T02:59:56.878292Z",
     "start_time": "2020-08-21T02:59:55.791338Z"
    }
   },
   "outputs": [
    {
     "data": {
      "text/plain": [
       "Subject         25\n",
       "Date            25\n",
       "From(Name)      25\n",
       "To(Name)        25\n",
       "CC              25\n",
       "BCC             25\n",
       "Folder          25\n",
       "FileName        25\n",
       "From(email)     25\n",
       "To(email)       25\n",
       "ContentType     25\n",
       "EmailContent    25\n",
       "dtype: int64"
      ]
     },
     "execution_count": 9,
     "metadata": {},
     "output_type": "execute_result"
    }
   ],
   "source": [
    "# Confidential emails\n",
    "enron_conf = email.loc[email[\"Subject\"]=='CONFIDENTIAL'].count()\n",
    "enron_conf\n"
   ]
  },
  {
   "cell_type": "code",
   "execution_count": 10,
   "metadata": {
    "ExecuteTime": {
     "end_time": "2020-08-21T03:00:00.068097Z",
     "start_time": "2020-08-21T02:59:59.186041Z"
    }
   },
   "outputs": [
    {
     "data": {
      "text/html": [
       "<div>\n",
       "<style scoped>\n",
       "    .dataframe tbody tr th:only-of-type {\n",
       "        vertical-align: middle;\n",
       "    }\n",
       "\n",
       "    .dataframe tbody tr th {\n",
       "        vertical-align: top;\n",
       "    }\n",
       "\n",
       "    .dataframe thead th {\n",
       "        text-align: right;\n",
       "    }\n",
       "</style>\n",
       "<table border=\"1\" class=\"dataframe\">\n",
       "  <thead>\n",
       "    <tr style=\"text-align: right;\">\n",
       "      <th></th>\n",
       "      <th>To(email)</th>\n",
       "    </tr>\n",
       "  </thead>\n",
       "  <tbody>\n",
       "    <tr>\n",
       "      <th>pete.davis@enron.com</th>\n",
       "      <td>9155</td>\n",
       "    </tr>\n",
       "    <tr>\n",
       "      <th>tana.jones@enron.com</th>\n",
       "      <td>5677</td>\n",
       "    </tr>\n",
       "    <tr>\n",
       "      <th>sara.shackleton@enron.com</th>\n",
       "      <td>4974</td>\n",
       "    </tr>\n",
       "    <tr>\n",
       "      <th>vkaminski@aol.com</th>\n",
       "      <td>4870</td>\n",
       "    </tr>\n",
       "    <tr>\n",
       "      <th>jeff.dasovich@enron.com</th>\n",
       "      <td>4350</td>\n",
       "    </tr>\n",
       "    <tr>\n",
       "      <th>kate.symes@enron.com</th>\n",
       "      <td>3517</td>\n",
       "    </tr>\n",
       "    <tr>\n",
       "      <th>all.worldwide@enron.com</th>\n",
       "      <td>3324</td>\n",
       "    </tr>\n",
       "    <tr>\n",
       "      <th>mark.taylor@enron.com</th>\n",
       "      <td>3295</td>\n",
       "    </tr>\n",
       "    <tr>\n",
       "      <th>kay.mann@enron.com</th>\n",
       "      <td>3085</td>\n",
       "    </tr>\n",
       "    <tr>\n",
       "      <th>gerald.nemec@enron.com</th>\n",
       "      <td>3074</td>\n",
       "    </tr>\n",
       "  </tbody>\n",
       "</table>\n",
       "</div>"
      ],
      "text/plain": [
       "                           To(email)\n",
       "pete.davis@enron.com            9155\n",
       "tana.jones@enron.com            5677\n",
       "sara.shackleton@enron.com       4974\n",
       "vkaminski@aol.com               4870\n",
       "jeff.dasovich@enron.com         4350\n",
       "kate.symes@enron.com            3517\n",
       "all.worldwide@enron.com         3324\n",
       "mark.taylor@enron.com           3295\n",
       "kay.mann@enron.com              3085\n",
       "gerald.nemec@enron.com          3074"
      ]
     },
     "execution_count": 10,
     "metadata": {},
     "output_type": "execute_result"
    }
   ],
   "source": [
    "# Top 10 senders and receivers\n",
    "top10_from = pd.DataFrame(email[\"From(email)\"].value_counts()[:10])\n",
    "top10_to = pd.DataFrame(email[\"To(email)\"].value_counts()[:10])\n",
    "top10_to"
   ]
  },
  {
   "cell_type": "code",
   "execution_count": 11,
   "metadata": {
    "ExecuteTime": {
     "end_time": "2020-08-21T03:00:07.413846Z",
     "start_time": "2020-08-21T03:00:05.233714Z"
    }
   },
   "outputs": [
    {
     "data": {
      "image/png": "[encoded data removed]",
      "text/plain": [
       "<Figure size 1080x504 with 4 Axes>"
      ]
     },
     "metadata": {
      "needs_background": "light"
     },
     "output_type": "display_data"
    }
   ],
   "source": [
    "# Plotting emails exchange frequency to check correlation\n",
    "\n",
    "f, axes = plt.subplots(2, 2, figsize=(15, 7), sharex=False, sharey=False)\n",
    "sns.despine(left=True)\n",
    "\n",
    "# Plot a simple histogram with binsize determined automatically\n",
    "sns.distplot(email[\"From(Name)\"].value_counts(), hist=False, color=\"b\", kde_kws={\"shade\": True}, ax=axes[0, 0])\n",
    "\n",
    "# Plot a kernel density estimate and rug plot\n",
    "sns.distplot(email[\"To(Name)\"].value_counts(), hist=False, color=\"r\", kde_kws={\"shade\": True}, ax=axes[0, 1])\n",
    "\n",
    "# Plot a filled kernel density estimate\n",
    "sns.distplot(email[\"From(email)\"].value_counts(), hist=False, color=\"g\", kde_kws={\"shade\": True}, ax=axes[1, 0])\n",
    "\n",
    "# Plot a histogram and kernel density estimate\n",
    "sns.distplot(email[\"To(email)\"].value_counts(), hist=False, color=\"m\", kde_kws={\"shade\": True}, ax=axes[1, 1])\n",
    "\n",
    "plt.setp(axes, yticks=[])\n",
    "plt.tight_layout()"
   ]
  },
  {
   "cell_type": "markdown",
   "metadata": {},
   "source": [
    "The above plot requires more investigation, but preliminary findings show discrepancies between Sender's name versus Sender's email as well as Receiver's name versus Receiver's email address. It can be caused due to error in our algorithm but it can also mean that the they are not exclusively using email business accounts as values diverge in more than 0.2 in total volume for the most active agents (Kay and Vince for example)."
   ]
  },
  {
   "cell_type": "markdown",
   "metadata": {},
   "source": [
    "## Removing email sent outside of working hours (7pm - 7am)"
   ]
  },
  {
   "cell_type": "code",
   "execution_count": null,
   "metadata": {
    "ExecuteTime": {
     "start_time": "2020-08-21T03:00:12.833Z"
    }
   },
   "outputs": [],
   "source": [
    "\n",
    "morning = datetime(1900, 1, 1, 7, 0)\n",
    "night = datetime(1900, 1, 1, 19, 0)\n",
    "\n",
    "def droptime(ds):\n",
    "    for index, row in ds.iterrows():\n",
    "#         print(index,row['Date'])\n",
    "        time = row['Date'][16:25].strip()\n",
    "        cday = datetime.strptime(time, '%H:%M:%S')\n",
    "        if cday < morning or cday > night:\n",
    "            #delete row\n",
    "            ds = ds.drop(index, axis=0)\n",
    "    return ds\n",
    "\n",
    "worktime_df = droptime(email)\n"
   ]
  },
  {
   "cell_type": "code",
   "execution_count": null,
   "metadata": {
    "ExecuteTime": {
     "start_time": "2020-08-21T03:00:14.924Z"
    }
   },
   "outputs": [],
   "source": [
    "# Create Data with no working hours emails \n",
    "data1 = email\n",
    "data2 = worktime_df\n",
    "df = data1[~data1.index.isin(data2.index)]\n",
    "df.columns = []\n",
    "df_nonwork = df"
   ]
  },
  {
   "cell_type": "markdown",
   "metadata": {},
   "source": [
    "## E-mail's spam -- 1st cleaning "
   ]
  },
  {
   "cell_type": "markdown",
   "metadata": {},
   "source": [
    "Unique subject lines were searched, subjects with seemingly \"spammy\" subjects had full row inspected.\n",
    "\n",
    "From(Name) was selected by accident, instead of From(email) but choosing the greedy option, decided to include From(email) and From(Name).\n",
    "\n",
    "Also decided to include spammy subject lines as some spam email came from seemingly regular email addresses spammy names from \"From(Name)\" column"
   ]
  },
  {
   "cell_type": "code",
   "execution_count": null,
   "metadata": {
    "ExecuteTime": {
     "start_time": "2020-08-21T03:15:47.988Z"
    }
   },
   "outputs": [],
   "source": [
    "\n",
    "fromname = [\"\\\"AnchorDesk\\\" \",  \"\\\"WSJ.com Editors\\\" \", \"\\\"Amazon.com\\\" \",\n",
    "            \"\\\"CBS SportsLine.com\\\" \",\"\\\"Autoweb.com News\\\" \",\"\\\"The Vixens\\\" \",\n",
    "            \"\\\"iWon Announcement\\\" \",\"\\\"Automotive Update\\\" \",\"\\\"Hotel Discounts\\\" \",\n",
    "            \"\\\"Earnings.com\\\" \",\"Capitol Connection \", \"\\\"Save Now\\\" \", \"\\\"Cellular Oportunity\\\" \",\"\\\"itsImazing\\\" \",\"Consumer Info\", \"Sprint\", \"Network Commerce \"]\n",
    "\n",
    "#spammy names from \"From(email)\" column\n",
    "fromemail = [\"editor@hersweeps.com\", \"yahoo-delivers@yahoo-inc.com\", \"members@realmoney.com\", \"itsimazing@response.etracks.com\", \"software@mail01.unitedmarketingstrategies.com\", \"editor@theb2bvoice.com\",\n",
    "          \"open2win.0ll1.net@mailman.enron.com\", \"gifts@info.iwon.com\", \"important_phone_call@response.etracks.com\", \"listservices@open2win.1ll0.net\",\n",
    "          \"exclusive_ofers@sportsline.com\", \"anchordesk_daily@anchordesk.zdlists.com\",\"dleduca714@yahoo.com\"]\n",
    "\n",
    "#spammy suject names\n",
    "spamsub = [\"MD2002 IS HERE...                         22799\",\"Download Frogger before it hops away!\",\"We\\'re Going \\\"Nuts\\\"\",\n",
    "           \"Phillip, claim your Holiday gift today!\",\"Put on holiday pounds? Pay Nothing to Lose Weight!\",\"Apply online for a No Deposit VISA or Master Card today!\",\n",
    "            \"Have you checked your credit rating lately?\",\"PHILLIP, Check this out now. Get a free* CD player.\",\"Introducing Morpheus 2.0!\",\n",
    "           \"Are you in the top 20?\",\"Did you just win $1,000?\",\"Remember the MD2000, Now released MD2002\\n                         30375\",\n",
    "            \"Contact businesses by fax, phone, mail, email\\n                         15060\", \"DIRECTV is now $1.00\",\"This deal is crazy PHILLIP\",\n",
    "           \"PHILLIP, Don't be alone under the mistletoe!\",\"PHILLIP, Is your family protected?\",\"Fw: Are You Living in Debt, Paycheck to Paycheck?3636\", \"PHILLIP, Get a $5000 credit limit to shop for the Holidays!\",\n",
    "           \"November 2001: Car buying tips..\",\"Get 2 FREE Review issues plus a FREE digital camera!\",\"You are pre-approved for a Chase Platinum MasterCard\", \"PHILLIP, Here's Your Holiday Gift -- A Free Cell Phone!\",\n",
    "           \"Phillip, it's trivia time!!\",\"PHILLIP, Coming Soon!\",\"PHILLIP, I have got to share this with you\",\"We're looking for a Winner, Phillip!\",\"Phillip, pick a prize!\"]\n",
    "\n",
    "for index in range(len(enspam[\"Spam\"])):\n",
    "    if enspam.iloc[:,1][index] in spamsub:# with iloc the entire row is selected and only column 1 is the  focus. index allows the selection of the cell at that row\n",
    "        enspam.iloc[:, 13][index]=1\n",
    "    if enspam.iloc[:,3][index] in fromname:\n",
    "        enspam.iloc[:, 13][index]=1\n",
    "    if enspam.iloc[:,9][index] in fromemail:\n",
    "        enspam.iloc[:, 13][index]=1\n",
    "        \n",
    "spamrows = enspam[enspam[\"Spam\"]==1]\n",
    "spamrows.reset_index(drop=True)\n",
    "# spamrows.to_csv('sptest.csv',index=False)\n",
    "non_spam=enspam.loc[:350]\n",
    "non_spam.reset_index(drop=True)\n",
    "# non_spam.to_csv(\"nsptest.csv\", index=False)\n",
    "# non_spam=pd.read_csv(r\"C:\\Users\\faria\\Documents\\Summer2020\\INF2179\\final project\\nsptest.csv\")\n",
    "# spam=pd.read_csv(r\"C:\\Users\\faria\\Documents\\Summer2020\\INF2179\\final project\\sptest.csv\")\n",
    "\n",
    "df1=non_spam\n",
    "df2=spam\n",
    "\n",
    "training_data = pd.concat([df1,df2], verify_integrity=True, ignore_index=True)\n",
    "# training_data = training_data.to_csv(\"traindat.csv\", index=False)\n",
    "# training_data = pd.read_csv(r\"C:\\Users\\faria\\Documents\\Summer2020\\INF2179\\final project\\traindat.csv\")\n",
    "\n",
    "training_data = training_data.sample(frac=1, random_state=10)\n",
    "training_data.reset_index(drop=True)\n",
    "rantraindat = training_data.drop(columns=[\"refindex\",\"Date\",\"To(Name)\",\"ContentType\"])\n",
    "\n",
    "# training_data.to_csv(\"rantraindat.csv\", index=False)\n",
    "\n"
   ]
  },
  {
   "cell_type": "code",
   "execution_count": null,
   "metadata": {
    "ExecuteTime": {
     "start_time": "2020-08-21T03:15:49.840Z"
    }
   },
   "outputs": [],
   "source": [
    "# Data Cleaning:\n",
    "# 1. Remove stopwords and stemming words \n",
    "# 2. Perform Bag of Words Algorithm \n",
    "\n",
    "nltk.download('stopwords')\n",
    "stopwords = stopwords.words('english')\n",
    "\n",
    "\n",
    "def tokenize(row):\n",
    "    if row is None or row is '':\n",
    "        tokens = \"\"\n",
    "    else:\n",
    "        tokens = row.split(\" \")\n",
    "    return tokens\n",
    "\n",
    "import re\n",
    "def Remove_reg(cleaned):\n",
    "    result = []\n",
    "    for i in cleaned:\n",
    "        row = [] \n",
    "        for token in tokenize(i):\n",
    "            token = token.lower()\n",
    "            token = re.sub(r'[\\W\\d]', \" \", token)\n",
    "            if token.strip() != \"\":\n",
    "                row.append(token.strip())\n",
    "        result.append(row)\n",
    "    return result\n",
    "\n",
    "\n",
    "def BOW(ds):\n",
    "    stemmer = PorterStemmer()\n",
    "    unique = []\n",
    "    for token_list in ds:\n",
    "        for token in token_list:\n",
    "            if token not in stopwords:\n",
    "                token = stemmer.stem(token)\n",
    "                if token not in unique:\n",
    "                    unique.append(token)\n",
    "    df_bow = pd.DataFrame(0,index = np.arange(len(ds)),columns = unique)\n",
    "               \n",
    "    for i, item in enumerate(ds):\n",
    "        for token in item:\n",
    "            if token in unique:\n",
    "                df_bow.iloc[i][token] += 1    \n",
    "    return df_bow\n"
   ]
  },
  {
   "cell_type": "markdown",
   "metadata": {},
   "source": [
    "## 2nd cleaning"
   ]
  },
  {
   "cell_type": "code",
   "execution_count": null,
   "metadata": {
    "ExecuteTime": {
     "start_time": "2020-08-21T03:15:52.988Z"
    }
   },
   "outputs": [],
   "source": [
    "#spammy domain names\n",
    "spam_domain=[\"@multexinvestornetwork.com\", \"salespoint.dealerconnection.com\",\"newsletters.microsoft.com\",\"@mailer.realage.com\",\n",
    "            \"@outreach.futurestep.com\",\"@mbox.surecom.com\",\"@interchange-energy.com\", \"@compuserve.com\", \"@m2.innovyx.com\",\n",
    "           \"@s2u2.com\",\"@1800flowers.flonetwork.com\",\"@shop2u.com\",\"@cda01.cdnow.com\",\"@lists.postmastergeneral.com\",\"@postalmanager.com\",\n",
    "            \"@tm02.com\",\"@tm03.com\",\"@skytel.com\",\"@lists.economist.com\",\"americanexpress\",\"news\",\n",
    "            \"@e-mailprograms.delta.com\",\"@mail3.travelocity.com\",\"@mailb.travelocity.com\",\"@mail.abcnews.go.com\", \"@pagenetmessage.net\",\"archwireless.net\",\"371.net\",\n",
    "            \"@em10.net\",\"id.ru\",\"@echostar.com\",\"@6access.com\",\"@meals.alazing.com\",\"@mail.uole.com.ve\",\"@amazon.com\",\"@aboutdirect.com\",\"aboutdirect.net\",\n",
    "            \"@email.msn.com\", \"@shockwave.com\",\"cooltravelassistant.com\",\"@zdnetonebox.com\",\"@lists.smartmoney.com\",\"administration.enron@enron.com\",\"@internetex.com\",\n",
    "            \"@aei.org\",\"aepin@aep.com\", \"@aggienetwork.com\",\".americangreetings.com\", \"offers\",\"@post.intellimedia.com\",\n",
    "            \"@yahoo-inc.com\",\"alerts\",\"alumni\",\"@ameritrade.customer-email.com\",\"desk\",\n",
    "            \"announce\",\"applicationservice@bdcimail.com\",\".apple.com\",\"arsystem\",\"notification\",\"auction\",\"bb4eb72a-172de319-86256aaa-4c9060@enron.com\",\n",
    "            \".mgmmirage.net\",\"sportingbetusa.com\",\"@beachheadmusic.com\",\"bizness4u_shoemake@sprintmail.com\",\"@m-ul.com\",\"bmg\",\"coupon\",\"request\",\"bounce\",\"@clickaction.net\",\n",
    "             \"support\",\"economist\",\"week\",\"buy\",\"cabbie@unm.edu\",\"owner\",\"list\",\"sports\",\".ucla.edu\",\"reply\",\"special\",\"auto\", \"card\",\n",
    "            \"mazing\",\"email\",\"citibank\",\"bot\",\"reward\",\"click\",\"client\",\"continental_airlines\",\"@airmail.continental.com\",\"digital\",\"creek\",\"communication\",\"community\",\n",
    "            \"saver\",\"conference\", \"confirm\",\"contact\", \"consumer\", \"member\", \"serv\",\"custom\",\"dailyquote\",\"terrmail3.terrapinn.com\",\"discount\",\"disney\", \"distribution\",\n",
    "            \"dream\",\"ebay\",\"bulletin\", \"delivery\",\"editor\", \"market\",\"energyinstitute\",\"energygroup\", \"seminar\", \"ethink\", \"feedback\",\"traffi\",\"cheap\",\"free\",\"fool@motleyfool.com\",\n",
    "            \"action\",\"foreign\",\"fortune\", \"money\", \"magazine\",\"register\" \"remind\",\"gold\", \"golf\",\"gift\",\"guarantee\",\"prize\",\"guest\",\"treat\", \"cash\",\"ixs1.net\",\"info\",\n",
    "            \"saving\", \"betquick\", \"quickbet\", \"design\", \"@insync-palm.com\",\"invest\",\"tv\", \"online\",\"kc-mx.avantgo.com\", \"radioshack\",\"outlook\", \"photo\",\"tumble2.datek.com\",\"postmaster\",\"subscribe\",\"xmr3.com\",\n",
    "            \"deal\",\"humor\",\"sale\",\"save\",\"weight\" \"loss\", \"promo\", \"value\", \"webmaster\",\"wizard\",\"www\",\"beach\",\"survey\",\"mailman\",\"no.address\",\"40enron\",\"office.chairman\",\"perfmgmt\"]\n",
    "\n",
    "def nospam(dataset):\n",
    "    for i in range(len(dataset)):\n",
    "        for j in range(len(spam_domain)):\n",
    "            word=spam_domain[j]\n",
    "            if word in dataset.iloc[:, 2][i]:#the from(email) column\n",
    "                dataset.iloc[:, 5][i]=1 #the spam column\n",
    "    return dataset\n",
    "\n",
    "# Dataset with spam\n",
    "wtlspam = nospam(df_content)\n",
    "\n",
    "# Dataset with non-spam\n",
    "wtnospam = wtlspam[wtlspam.Spam != 1] #keep everything not equal to 1\n",
    "wtnospam.reset_index(drop=True)\n",
    "\n",
    "# Save them as .csv files\n",
    "# wtlspam.to_csv(\"wtlspam.csv\",index=False)\n",
    "# wtnospam.to_csv(\"wtnospam.csv\",index=False)\n"
   ]
  },
  {
   "cell_type": "markdown",
   "metadata": {},
   "source": [
    "# Logistic Regression -- Spam / Non-Spam Classification"
   ]
  },
  {
   "cell_type": "code",
   "execution_count": null,
   "metadata": {
    "ExecuteTime": {
     "start_time": "2020-08-21T03:15:55.292Z"
    }
   },
   "outputs": [],
   "source": [
    "# Recursively Predict the whole dataset\n",
    "\n",
    "# Load label dataset\n",
    "df_train = pd.read_csv('Data/rantraindat.csv')\n",
    "\n",
    "# perform bag of words on the labeled dataset\n",
    "df_bow_label = Remove_reg(df_train['EmailContent'])\n",
    "df_bow_label = BOW(df_bow_label)\n",
    "\n",
    "\n",
    "#Save spam label and then drop it\n",
    "df_spam = df_bow_label['Spam']\n",
    "df_bow_label = df_bow_label.drop('Spam', axis=1)\n",
    "\n",
    "# whole dataset\n",
    "df_workin = pd.read_csv('worktime_df.csv')\n",
    "\n",
    "# perform bag of words on the whole dataset.\n",
    "df_content = Remove_reg(df_workin['EmailContent'])\n",
    "df_content = BOW(df_content)\n",
    "\n",
    "\n",
    "# concat the label dataset to the top of entire dataset\n",
    "df_content['Spam'] = ''\n",
    "df_content = pd.concat([df_bow_label, df_content]).reset_index(drop = True) \n",
    "df_content['Spam'] = df_spam\n",
    "\n",
    "\n",
    "# Apply above methods in the 10,000 samples dataset\n",
    "size = 1000\n",
    "\n",
    "while size <= len(df_content.iloc[:10000, :]):\n",
    "    #print(\"begin\",size)\n",
    "    LogReg = LogisticRegression(solver='liblinear')\n",
    "    LogReg.fit(df_content.iloc[:size,:-1], df_content.iloc[0:size,-1])\n",
    "    Content_test = df_content.iloc[size:size*2,:-1]\n",
    "    Spam_predict = LogReg.predict(Content_test)\n",
    "    df_content['Spam'][size:size*2] = Spam_predict\n",
    "    size = size * 2\n",
    "\n"
   ]
  },
  {
   "cell_type": "code",
   "execution_count": null,
   "metadata": {
    "ExecuteTime": {
     "start_time": "2020-08-21T03:16:01.981Z"
    }
   },
   "outputs": [],
   "source": [
    "\n",
    "\n",
    "df_content.unique().sum()\n",
    "# Counter(df_content)"
   ]
  },
  {
   "cell_type": "code",
   "execution_count": null,
   "metadata": {
    "ExecuteTime": {
     "end_time": "2020-08-21T02:51:11.884911Z",
     "start_time": "2020-08-21T02:46:55.985Z"
    }
   },
   "outputs": [],
   "source": [
    "# print(classification_report(y_test, y_pred))\n",
    "# print(metrics.accuracy_score(y_test, y_pred))"
   ]
  },
  {
   "cell_type": "markdown",
   "metadata": {},
   "source": [
    "# K-Means Clustering for subclass labels"
   ]
  },
  {
   "cell_type": "code",
   "execution_count": null,
   "metadata": {
    "ExecuteTime": {
     "end_time": "2020-08-21T02:51:11.903267Z",
     "start_time": "2020-08-21T02:46:56.319Z"
    }
   },
   "outputs": [],
   "source": [
    "# Preprocessing and tokenizing\n",
    "def preprocessing(line):\n",
    "    line = line.lower()\n",
    "    line = re.sub(r\"[{}]\".format(string.punctuation), \" \", line)\n",
    "    return line\n",
    "\n",
    "# making new data frame with dropped NA values \n",
    "new_data = wtnospam['Subject'].dropna(axis = 0, how ='any') \n",
    "\n",
    "vectorizer = TfidfVectorizer(stop_words='english')\n",
    "X = vectorizer.fit_transform(new_data)\n",
    "\n",
    "# get tfidf score for each word in one sentence\n",
    "def get_ifidf_for_words(text):\n",
    "    tfidf_matrix= vectorizer.transform([text]).todense()\n",
    "    feature_index = tfidf_matrix[0,:].nonzero()[1]\n",
    "    tfidf_scores = zip([feature_names[i] for i in feature_index], [tfidf_matrix[0, x] for x in feature_index])\n",
    "    return dict(tfidf_scores)\n"
   ]
  },
  {
   "cell_type": "code",
   "execution_count": null,
   "metadata": {
    "ExecuteTime": {
     "end_time": "2020-08-21T02:51:11.961061Z",
     "start_time": "2020-08-21T02:46:56.331Z"
    }
   },
   "outputs": [],
   "source": [
    "# Elbow method\n",
    "distortions = []\n",
    "K = range(1,30)\n",
    "for k in K:\n",
    "    kmeanModel = KMeans(n_clusters=k)\n",
    "    kmeanModel.fit(X)\n",
    "    distortions.append(kmeanModel.inertia_)\n",
    "    \n",
    "\n",
    "plt.figure(figsize=(16,8))\n",
    "plt.plot(K, distortions, 'bx-')\n",
    "plt.xlabel('k')\n",
    "plt.ylabel('Distortion')\n",
    "plt.title('The Elbow Method showing the optimal k')\n",
    "plt.show()\n"
   ]
  },
  {
   "cell_type": "code",
   "execution_count": null,
   "metadata": {
    "ExecuteTime": {
     "end_time": "2020-08-21T02:51:11.965644Z",
     "start_time": "2020-08-21T02:46:56.344Z"
    }
   },
   "outputs": [],
   "source": [
    "#From the elbow graph, We can observe that the “elbow” is the number 24 which is optimal for this case. Now we can run a K-Means using as n_clusters the number 24\n",
    "true_k = 24\n",
    "model = KMeans(n_clusters=true_k, init='k-means++', max_iter=1000, n_init=1)\n",
    "model.fit(X)\n",
    "\n",
    "print(\"Top terms per cluster:\")\n",
    "order_centroids = model.cluster_centers_.argsort()[:, ::-1]\n",
    "terms = vectorizer.get_feature_names()\n",
    "for i in range(true_k):\n",
    "    print(\"Cluster %d:\" % i, end='')\n",
    "    for ind in order_centroids[i, :10]:\n",
    "        print(' %s' % terms[ind], end='')\n",
    "        print()"
   ]
  },
  {
   "cell_type": "code",
   "execution_count": null,
   "metadata": {},
   "outputs": [],
   "source": []
  },
  {
   "cell_type": "code",
   "execution_count": null,
   "metadata": {},
   "outputs": [],
   "source": []
  },
  {
   "cell_type": "markdown",
   "metadata": {},
   "source": [
    "## Subclass labelling automation  "
   ]
  },
  {
   "cell_type": "code",
   "execution_count": null,
   "metadata": {
    "ExecuteTime": {
     "end_time": "2020-08-21T02:51:11.969929Z",
     "start_time": "2020-08-21T02:46:56.890Z"
    }
   },
   "outputs": [],
   "source": [
    "df = enron\n",
    "\n",
    "bmeeting = [\"meeting\", \"schedule\", \"memo\", \"conference\", \"agenda\", \"date\"]\n",
    "bfollowup = [\"agreement\", \"report\", \"chart\", \"announcement\", \"draft\", \"change\", \"procedure\", \"late\", \"deadline\", \n",
    "             \"proposal\", \"contract\", \"letter\", \"follow-up\", \"summary\", \"supplemental\", \"approval\", \"template\"]\n",
    "bconfidential = [\"confidential\", \"privacy\", \"secret\", \"topsecret\", \"alert\", \"board\", \"committee\", \"fraud\", \"scam\",\n",
    "                 \"fbi\", \"investigation\", \"access\", \"proceeds\", \"donation\", \"transaction\", \"liquidation\", \"risk\",\n",
    "                 \"lawsuit\", \"sue\", \"violation\", \"criminal\", \"criminous\", \"scandal\"]\n",
    "bgeneral = [\"gas\", \"energy\", \"power\", \"development\", \"global\", \"organizational\", \"operation\", \"customer\", \"intern\", \n",
    "            \"associate\", \"hiring\", \"position\", \"patenting\", \"finance\", \"restruct\", \"balance\", \"stock\", \"transport\", \n",
    "            \"model\", \"management\", \"executive\", \"infrastructure\"]\n",
    "pfamilyfriends = [\"girlfriend\", \"boyfriend\", \"fwd\", \"buddy\", \"whassup\", \"weekend\", \"plans\", \"football\",\n",
    "                  \"hunt\", \"friends\", \"wife\", \"husband\", \"hubby\", \"drugs\", \"holiday\", \"season\", \"winter\", \"summer\"]\n",
    "\n",
    "df[\"Label\"]='other' #will add a new label with everything being other as a default\n",
    "df[\"Label\"]=6\n",
    "def label(dataset):\n",
    "    for i in range(len(dataset)):\n",
    "        for j in range(len(bmeeting)):  \n",
    "            word=bmeeting[j]\n",
    "            if word in dataset.iloc[:, 0][i]:#change the column position for email content if needed\n",
    "#                 dataset.iloc[:, -1][i]='bmeeting'\n",
    "                dataset.iloc[:, -1][i]= 1\n",
    "            else:\n",
    "                pass\n",
    "        for k in range(len(bfollowup)):\n",
    "            word=bfollowup[k]\n",
    "            if word in dataset.iloc[:, 0][i]:#change the column position for email content if needed\n",
    "#                 dataset.iloc[:, -1][i]='bfollowup' \n",
    "                dataset.iloc[:, -1][i]=2\n",
    "            else:\n",
    "                pass        \n",
    "        for k in range(len(bconfidential)):\n",
    "            word=bconfidential[k]\n",
    "            if word in dataset.iloc[:, 0][i]:#change the column position for email content if needed\n",
    "#                 dataset.iloc[:, -1][i]='bconfidential'\n",
    "                dataset.iloc[:, -1][i]=3\n",
    "            else:\n",
    "                pass\n",
    "        for k in range(len(bgeneral)):\n",
    "            word=bgeneral[k]\n",
    "            if word in dataset.iloc[:, 0][i]:#change the column position for email content if needed\n",
    "#                 dataset.iloc[:, -1][i]='bgeneral'\n",
    "                dataset.iloc[:, -1][i]=4\n",
    "            else:pass\n",
    "        for k in range(len(pfamilyfriends)):\n",
    "            word=pfamilyfriends[k]\n",
    "            if word in dataset.iloc[:, 0][i]:#change the column position for email content if needed\n",
    "#                 dataset.iloc[:, -1][i]='pfamilyfriends'\n",
    "                dataset.iloc[:, -1][i]=5\n",
    "    return dataset\n",
    "\n",
    "enron_final = label(df)"
   ]
  },
  {
   "cell_type": "markdown",
   "metadata": {},
   "source": [
    "## Email Content -- 3rd cleaning "
   ]
  },
  {
   "cell_type": "code",
   "execution_count": null,
   "metadata": {
    "ExecuteTime": {
     "end_time": "2020-08-21T02:51:11.979571Z",
     "start_time": "2020-08-21T02:46:57.377Z"
    }
   },
   "outputs": [],
   "source": [
    "#pre-processing\n",
    "def clean_str(string):\n",
    "    \"\"\"\n",
    "    Tokenization/string cleaning for dataset\n",
    "    Every dataset is lower cased except\n",
    "    \"\"\"\n",
    "    string = re.sub(r\"\\n\", \"\", string)  \n",
    "    string = re.sub(r\"\\\\n\", \"\", string) \n",
    "    string = re.sub(r\"\\r\", \"\", string) \n",
    "    string = re.sub(r\"[0-9]\", \"digit\", string)\n",
    "    string = re.sub(r\"\\'\", \"\", string)    \n",
    "    string = re.sub(r\"\\\"\", \"\", string) \n",
    "    string = re.sub(r\"\\\\'\", \"\", string)    \n",
    "    string = re.sub(r\"\\\\\", \"\", string) \n",
    "    string = re.sub(r\"--\", \"\", string)\n",
    "    return string.strip().lower()\n",
    "\n",
    "\n",
    "X = []\n",
    "for i in range(enron_final.shape[0]):\n",
    "    X.append(clean_str(enron_final.iloc[i][0]))\n",
    "\n",
    "\n",
    "# enron_str = clean_str(str(enron_final[\"EmailContent\"]))\n",
    "enron = pd.DataFrame(X)\n",
    "X.columns = [\"EmailContent\"]\n",
    "y = np.array(enron_final[\"Label\"])\n",
    "# enron[\"Label\"] = enron_final[\"Label\"]"
   ]
  },
  {
   "cell_type": "markdown",
   "metadata": {},
   "source": [
    "# Data validation"
   ]
  },
  {
   "cell_type": "code",
   "execution_count": null,
   "metadata": {
    "ExecuteTime": {
     "end_time": "2020-08-21T02:51:11.983059Z",
     "start_time": "2020-08-21T02:46:57.938Z"
    }
   },
   "outputs": [],
   "source": [
    "# printing the first two lines on the dataset\n",
    "enron_final.head(2)"
   ]
  },
  {
   "cell_type": "code",
   "execution_count": null,
   "metadata": {
    "ExecuteTime": {
     "end_time": "2020-08-21T02:51:11.987206Z",
     "start_time": "2020-08-21T02:46:57.943Z"
    }
   },
   "outputs": [],
   "source": [
    "# Exploration 1st step\n",
    "def exploration():\n",
    "    # Dataset type\n",
    "    print(\"Dataset type is: \", type(enron_final), \"\\n\")\n",
    "    \n",
    "    # Data shape\n",
    "    print(\"The data shape is: \", enron_final.shape, \"\\n\")\n",
    "    \n",
    "    # Checking for duplicates\n",
    "    dup = enron_final.duplicated().sum()\n",
    "    print(\"This dataset has \", dup, \"duplicated values\\n\")\n",
    "    \n",
    "    # Column names\n",
    "    print(\"Column names are: \", enron_final.columns)\n",
    "    \n",
    "    # Checking null values\n",
    "    print(\"It has \", enron_final.isnull().sum(), \" null values.\")\n",
    "\n",
    "exploration()"
   ]
  },
  {
   "cell_type": "code",
   "execution_count": null,
   "metadata": {
    "ExecuteTime": {
     "end_time": "2020-08-21T02:51:11.999573Z",
     "start_time": "2020-08-21T02:46:57.954Z"
    }
   },
   "outputs": [],
   "source": [
    "# Unique Labels count\n",
    "Counter(enron_final[\"Label\"])"
   ]
  },
  {
   "cell_type": "code",
   "execution_count": null,
   "metadata": {
    "ExecuteTime": {
     "end_time": "2020-08-21T02:51:12.002287Z",
     "start_time": "2020-08-21T02:46:57.958Z"
    }
   },
   "outputs": [],
   "source": [
    "enron_final.head(2)"
   ]
  },
  {
   "cell_type": "markdown",
   "metadata": {},
   "source": [
    "# ML for multiclass labelling"
   ]
  },
  {
   "cell_type": "markdown",
   "metadata": {},
   "source": [
    "## ML Pipeline "
   ]
  },
  {
   "cell_type": "code",
   "execution_count": null,
   "metadata": {
    "ExecuteTime": {
     "end_time": "2020-08-21T02:51:12.011741Z",
     "start_time": "2020-08-21T02:46:58.568Z"
    }
   },
   "outputs": [],
   "source": [
    "#pipeline of feature vectorizer/transformer and model\n",
    "model = Pipeline([(\"vectorizer\", CountVectorizer()), (\"tfidf\", TfidfTransformer()),\n",
    "                  (\"DT\", OneVsRestClassifier(DecisionTreeClassifier()))])\n",
    "#the class_weight=\"balanced\" option tries to remove the biasedness of model towards majority sample\n",
    "\n",
    "#paramater selection\n",
    "parameters = {'vectorizer__ngram_range': [(1, 1), (1, 2),(2,2)],\n",
    "               'tfidf__use_idf': (True, False)}\n",
    "gs_clf_svm = GridSearchCV(model, parameters, n_jobs=-1)\n",
    "gs_clf_svm = gs_clf_svm.fit(X[:10000], y[:10000])\n",
    "\n",
    "print(\"DT best score is: \", gs_clf_svm.best_score_)\n",
    "print(\"DT params: \", gs_clf_svm.best_params_)"
   ]
  },
  {
   "cell_type": "code",
   "execution_count": null,
   "metadata": {},
   "outputs": [],
   "source": []
  },
  {
   "cell_type": "code",
   "execution_count": null,
   "metadata": {},
   "outputs": [],
   "source": []
  }
 ],
 "metadata": {
  "kernelspec": {
   "display_name": "Python 3",
   "language": "python",
   "name": "python3"
  },
  "language_info": {
   "codemirror_mode": {
    "name": "ipython",
    "version": 3
   },
   "file_extension": ".py",
   "mimetype": "text/x-python",
   "name": "python",
   "nbconvert_exporter": "python",
   "pygments_lexer": "ipython3",
   "version": "3.8.3"
  },
  "latex_envs": {
   "LaTeX_envs_menu_present": true,
   "autoclose": false,
   "autocomplete": true,
   "bibliofile": "biblio.bib",
   "cite_by": "apalike",
   "current_citInitial": 1,
   "eqLabelWithNumbers": true,
   "eqNumInitial": 1,
   "hotkeys": {
    "equation": "Ctrl-E",
    "itemize": "Ctrl-I"
   },
   "labels_anchors": false,
   "latex_user_defs": false,
   "report_style_numbering": false,
   "user_envs_cfg": false
  },
  "toc": {
   "base_numbering": 1,
   "nav_menu": {},
   "number_sections": true,
   "sideBar": true,
   "skip_h1_title": false,
   "title_cell": "Table of Contents",
   "title_sidebar": "Contents",
   "toc_cell": true,
   "toc_position": {},
   "toc_section_display": true,
   "toc_window_display": false
  }
 },
 "nbformat": 4,
 "nbformat_minor": 4
}
