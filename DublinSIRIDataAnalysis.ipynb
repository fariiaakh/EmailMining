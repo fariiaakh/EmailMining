{
 "cells": [
  {
   "cell_type": "markdown",
   "metadata": {},
   "source": [
    "# INF2179 Assignment 1 July 12th, 2020"
   ]
  },
  {
   "cell_type": "markdown",
   "metadata": {},
   "source": [
    "Import appropriate Libraries"
   ]
  },
  {
   "cell_type": "code",
   "execution_count": 1,
   "metadata": {},
   "outputs": [],
   "source": [
    "%matplotlib inline\n",
    "import numpy as np\n",
    "import pandas as pd\n",
    "import matplotlib.pyplot as plt\n",
    "import seaborn as sb"
   ]
  },
  {
   "cell_type": "markdown",
   "metadata": {},
   "source": [
    "### 1. Loading: Load the data into a data structure (e.g., pandas, or numpy array/matrix)"
   ]
  },
  {
   "cell_type": "code",
   "execution_count": 2,
   "metadata": {},
   "outputs": [],
   "source": [
    "bus_data=pd.read_csv(\"SiriLog.csv\")"
   ]
  },
  {
   "cell_type": "code",
   "execution_count": 3,
   "metadata": {},
   "outputs": [
    {
     "data": {
      "text/html": [
       "<div>\n",
       "<style scoped>\n",
       "    .dataframe tbody tr th:only-of-type {\n",
       "        vertical-align: middle;\n",
       "    }\n",
       "\n",
       "    .dataframe tbody tr th {\n",
       "        vertical-align: top;\n",
       "    }\n",
       "\n",
       "    .dataframe thead th {\n",
       "        text-align: right;\n",
       "    }\n",
       "</style>\n",
       "<table border=\"1\" class=\"dataframe\">\n",
       "  <thead>\n",
       "    <tr style=\"text-align: right;\">\n",
       "      <th></th>\n",
       "      <th>Time</th>\n",
       "      <th>LineID</th>\n",
       "      <th>JourneyPattern</th>\n",
       "      <th>VehicleJID</th>\n",
       "      <th>Operator</th>\n",
       "      <th>Congestion</th>\n",
       "      <th>Lon</th>\n",
       "      <th>Lat</th>\n",
       "      <th>Delay</th>\n",
       "      <th>VehicleID</th>\n",
       "      <th>StopID</th>\n",
       "      <th>AtStop</th>\n",
       "    </tr>\n",
       "  </thead>\n",
       "  <tbody>\n",
       "    <tr>\n",
       "      <th>0</th>\n",
       "      <td>1411686000</td>\n",
       "      <td>65B</td>\n",
       "      <td>065B1001</td>\n",
       "      <td>7251</td>\n",
       "      <td>RD</td>\n",
       "      <td>0</td>\n",
       "      <td>-6.266066</td>\n",
       "      <td>53.338269</td>\n",
       "      <td>-739</td>\n",
       "      <td>38004</td>\n",
       "      <td>1354</td>\n",
       "      <td>0</td>\n",
       "    </tr>\n",
       "    <tr>\n",
       "      <th>1</th>\n",
       "      <td>1411686000</td>\n",
       "      <td>13</td>\n",
       "      <td>00131002</td>\n",
       "      <td>1809</td>\n",
       "      <td>HN</td>\n",
       "      <td>0</td>\n",
       "      <td>-6.266332</td>\n",
       "      <td>53.408386</td>\n",
       "      <td>1127</td>\n",
       "      <td>33342</td>\n",
       "      <td>323</td>\n",
       "      <td>0</td>\n",
       "    </tr>\n",
       "    <tr>\n",
       "      <th>2</th>\n",
       "      <td>1411686000</td>\n",
       "      <td>7</td>\n",
       "      <td>00070004</td>\n",
       "      <td>4235</td>\n",
       "      <td>D1</td>\n",
       "      <td>0</td>\n",
       "      <td>-6.130316</td>\n",
       "      <td>53.254202</td>\n",
       "      <td>-420</td>\n",
       "      <td>44016</td>\n",
       "      <td>3219</td>\n",
       "      <td>0</td>\n",
       "    </tr>\n",
       "    <tr>\n",
       "      <th>3</th>\n",
       "      <td>1411686000</td>\n",
       "      <td>25</td>\n",
       "      <td>025B0001</td>\n",
       "      <td>5757</td>\n",
       "      <td>CD</td>\n",
       "      <td>0</td>\n",
       "      <td>-6.446961</td>\n",
       "      <td>53.344495</td>\n",
       "      <td>143</td>\n",
       "      <td>33608</td>\n",
       "      <td>3370</td>\n",
       "      <td>0</td>\n",
       "    </tr>\n",
       "    <tr>\n",
       "      <th>4</th>\n",
       "      <td>1411686001</td>\n",
       "      <td>27</td>\n",
       "      <td>077A0001</td>\n",
       "      <td>2602</td>\n",
       "      <td>RD</td>\n",
       "      <td>0</td>\n",
       "      <td>-6.341833</td>\n",
       "      <td>53.289558</td>\n",
       "      <td>45</td>\n",
       "      <td>33520</td>\n",
       "      <td>2596</td>\n",
       "      <td>0</td>\n",
       "    </tr>\n",
       "  </tbody>\n",
       "</table>\n",
       "</div>"
      ],
      "text/plain": [
       "         Time LineID JourneyPattern  VehicleJID Operator  Congestion  \\\n",
       "0  1411686000    65B       065B1001        7251       RD           0   \n",
       "1  1411686000     13       00131002        1809       HN           0   \n",
       "2  1411686000      7       00070004        4235       D1           0   \n",
       "3  1411686000     25       025B0001        5757       CD           0   \n",
       "4  1411686001     27       077A0001        2602       RD           0   \n",
       "\n",
       "        Lon        Lat  Delay  VehicleID  StopID  AtStop  \n",
       "0 -6.266066  53.338269   -739      38004    1354       0  \n",
       "1 -6.266332  53.408386   1127      33342     323       0  \n",
       "2 -6.130316  53.254202   -420      44016    3219       0  \n",
       "3 -6.446961  53.344495    143      33608    3370       0  \n",
       "4 -6.341833  53.289558     45      33520    2596       0  "
      ]
     },
     "execution_count": 3,
     "metadata": {},
     "output_type": "execute_result"
    }
   ],
   "source": [
    "bus_data.head()"
   ]
  },
  {
   "cell_type": "markdown",
   "metadata": {},
   "source": [
    "### 2. Analyzing: Which of the predictors are numeric and which are nominal (or categorical)"
   ]
  },
  {
   "cell_type": "markdown",
   "metadata": {},
   "source": [
    "Categorical values take on a fixed number of possible values. Numerical variables are continuous.\n",
    "* The Numeric predictors include: Time, VehicleJID, Lon, Lat, Delay.\n",
    "* The Categorical predictors include: LineID, JourneyPattern,VehicleJID, Operator, Congestion, VehicleID, StopID, and AtStop."
   ]
  },
  {
   "cell_type": "code",
   "execution_count": 4,
   "metadata": {},
   "outputs": [
    {
     "data": {
      "text/plain": [
       "Index(['Time', 'LineID', 'JourneyPattern', 'VehicleJID', 'Operator',\n",
       "       'Congestion', 'Lon', 'Lat', 'Delay', 'VehicleID', 'StopID', 'AtStop'],\n",
       "      dtype='object')"
      ]
     },
     "execution_count": 4,
     "metadata": {},
     "output_type": "execute_result"
    }
   ],
   "source": [
    "bus_data.columns"
   ]
  },
  {
   "cell_type": "markdown",
   "metadata": {},
   "source": [
    "### 3. Exploring: What is the range of each numeric attribute? What is the mean and standard deviation of each numeric predictor?"
   ]
  },
  {
   "cell_type": "markdown",
   "metadata": {},
   "source": [
    "There are 4 numeric attributes. Their ranges, means and standard deviations include:\n",
    "\n",
    "| Categories | Range | Mean | Standard Deviation |\n",
    "| --- | --- | --- | --- |\n",
    "| Time |1411686000 - 1411755520|1411732540.8343|13976.2337|\n",
    "| Lon | -6.6147 - -6.0531 | -6.27 | 0.0798 |\n",
    "| Lat | 53.0704 - 53.6065 | 53.3431 | 0.0529 |\n",
    "| Delay |-14209 - 11723 | 151.3641 | 620.025 |\n",
    "\n",
    "Please see the code below. The functions for range, mean and standard deviation are used for question 4 as well."
   ]
  },
  {
   "cell_type": "code",
   "execution_count": 5,
   "metadata": {
    "scrolled": true
   },
   "outputs": [],
   "source": [
    "#bus_data.describe()"
   ]
  },
  {
   "cell_type": "code",
   "execution_count": 6,
   "metadata": {},
   "outputs": [],
   "source": [
    "#pd.Series(bus_data[\"VehicleJID\"])"
   ]
  },
  {
   "cell_type": "code",
   "execution_count": 7,
   "metadata": {},
   "outputs": [],
   "source": [
    "# decided to round all values to 4 decimal places\n",
    "\n",
    "def highestpoint(dataset:pd.DataFrame, column_name:str)->float:\n",
    "    '''\n",
    "    Return the max value of the column specified by \"column_name\" \n",
    "    '''\n",
    "    column=dataset[column_name]\n",
    "    maxcol=column.max()\n",
    "    return round(maxcol,4)\n",
    "\n",
    "def lowestpoint(dataset:pd.DataFrame, column_name:str)->float:\n",
    "    '''\n",
    "    Return the max value of the column specified by \"column_name\" \n",
    "    '''\n",
    "    column=dataset[column_name]\n",
    "    mincol=column.min()\n",
    "    return round(mincol,4)\n",
    "\n",
    "def colrange(dataset:pd.DataFrame, column_name:str)-> str:\n",
    "    \"\"\"\n",
    "    This function returns the range of a column in the form of a string\n",
    "    by calling on other functions that calculate the min and max values\n",
    "    and then concatentating those values in to a range format\n",
    "    \"\"\"\n",
    "    maxcol= str(highestpoint(dataset,column_name))\n",
    "    mincol= str(lowestpoint(dataset,column_name))\n",
    "    return mincol + \" - \" + maxcol\n",
    "    \n",
    "def colmean(dataset:pd.DataFrame, column_name:str)-> float:\n",
    "    \"\"\"\n",
    "    Return the mean value of the column name specified in \"column_name\"\n",
    "    \"\"\"\n",
    "    column=dataset[column_name]\n",
    "    meancol=column.mean()\n",
    "    return round(meancol, 4)\n",
    "\n",
    "def colstdev(dataset:pd.DataFrame, column_name:str)-> float:\n",
    "    \"\"\"\n",
    "    Return the standard deviation of the column name specified by \"column_name\"\n",
    "    \"\"\"\n",
    "    column=dataset[column_name]\n",
    "    stdcol=column.std()\n",
    "    return round(stdcol, 4)\n"
   ]
  },
  {
   "cell_type": "code",
   "execution_count": 8,
   "metadata": {
    "scrolled": true
   },
   "outputs": [
    {
     "data": {
      "text/plain": [
       "11723"
      ]
     },
     "execution_count": 8,
     "metadata": {},
     "output_type": "execute_result"
    }
   ],
   "source": [
    "#Calculating the max of a column\n",
    "highestpoint(bus_data,\"Delay\")"
   ]
  },
  {
   "cell_type": "code",
   "execution_count": 9,
   "metadata": {},
   "outputs": [
    {
     "data": {
      "text/plain": [
       "-14209"
      ]
     },
     "execution_count": 9,
     "metadata": {},
     "output_type": "execute_result"
    }
   ],
   "source": [
    "#Calculating the min of a column\n",
    "lowestpoint(bus_data,\"Delay\")"
   ]
  },
  {
   "cell_type": "code",
   "execution_count": 10,
   "metadata": {},
   "outputs": [
    {
     "data": {
      "text/plain": [
       "'-14209 - 11723'"
      ]
     },
     "execution_count": 10,
     "metadata": {},
     "output_type": "execute_result"
    }
   ],
   "source": [
    "#formatting the max and min of a column into a range\n",
    "colrange(bus_data,\"Delay\")"
   ]
  },
  {
   "cell_type": "code",
   "execution_count": 11,
   "metadata": {},
   "outputs": [
    {
     "data": {
      "text/plain": [
       "151.3641"
      ]
     },
     "execution_count": 11,
     "metadata": {},
     "output_type": "execute_result"
    }
   ],
   "source": [
    "#Calculating mean of specified column\n",
    "colmean(bus_data,\"Delay\")"
   ]
  },
  {
   "cell_type": "code",
   "execution_count": 12,
   "metadata": {},
   "outputs": [
    {
     "data": {
      "text/plain": [
       "620.025"
      ]
     },
     "execution_count": 12,
     "metadata": {},
     "output_type": "execute_result"
    }
   ],
   "source": [
    "#Calculating standard deviation of a specified column\n",
    "colstdev(bus_data,\"Delay\")"
   ]
  },
  {
   "cell_type": "markdown",
   "metadata": {},
   "source": [
    "### 4. Manipulating: Remove rows 1000 through 8500. What is the range, mean, standard deviation of each numeric feature in the remaining dataset? Choose one of the operators. Present the mean delay for that operator."
   ]
  },
  {
   "cell_type": "code",
   "execution_count": 13,
   "metadata": {},
   "outputs": [
    {
     "data": {
      "text/html": [
       "<div>\n",
       "<style scoped>\n",
       "    .dataframe tbody tr th:only-of-type {\n",
       "        vertical-align: middle;\n",
       "    }\n",
       "\n",
       "    .dataframe tbody tr th {\n",
       "        vertical-align: top;\n",
       "    }\n",
       "\n",
       "    .dataframe thead th {\n",
       "        text-align: right;\n",
       "    }\n",
       "</style>\n",
       "<table border=\"1\" class=\"dataframe\">\n",
       "  <thead>\n",
       "    <tr style=\"text-align: right;\">\n",
       "      <th></th>\n",
       "      <th>index</th>\n",
       "      <th>Time</th>\n",
       "      <th>LineID</th>\n",
       "      <th>JourneyPattern</th>\n",
       "      <th>VehicleJID</th>\n",
       "      <th>Operator</th>\n",
       "      <th>Congestion</th>\n",
       "      <th>Lon</th>\n",
       "      <th>Lat</th>\n",
       "      <th>Delay</th>\n",
       "      <th>VehicleID</th>\n",
       "      <th>StopID</th>\n",
       "      <th>AtStop</th>\n",
       "    </tr>\n",
       "  </thead>\n",
       "  <tbody>\n",
       "    <tr>\n",
       "      <th>0</th>\n",
       "      <td>0</td>\n",
       "      <td>1411686000</td>\n",
       "      <td>65B</td>\n",
       "      <td>065B1001</td>\n",
       "      <td>7251</td>\n",
       "      <td>RD</td>\n",
       "      <td>0</td>\n",
       "      <td>-6.266066</td>\n",
       "      <td>53.338269</td>\n",
       "      <td>-739</td>\n",
       "      <td>38004</td>\n",
       "      <td>1354</td>\n",
       "      <td>0</td>\n",
       "    </tr>\n",
       "    <tr>\n",
       "      <th>1</th>\n",
       "      <td>1</td>\n",
       "      <td>1411686000</td>\n",
       "      <td>13</td>\n",
       "      <td>00131002</td>\n",
       "      <td>1809</td>\n",
       "      <td>HN</td>\n",
       "      <td>0</td>\n",
       "      <td>-6.266332</td>\n",
       "      <td>53.408386</td>\n",
       "      <td>1127</td>\n",
       "      <td>33342</td>\n",
       "      <td>323</td>\n",
       "      <td>0</td>\n",
       "    </tr>\n",
       "    <tr>\n",
       "      <th>2</th>\n",
       "      <td>2</td>\n",
       "      <td>1411686000</td>\n",
       "      <td>7</td>\n",
       "      <td>00070004</td>\n",
       "      <td>4235</td>\n",
       "      <td>D1</td>\n",
       "      <td>0</td>\n",
       "      <td>-6.130316</td>\n",
       "      <td>53.254202</td>\n",
       "      <td>-420</td>\n",
       "      <td>44016</td>\n",
       "      <td>3219</td>\n",
       "      <td>0</td>\n",
       "    </tr>\n",
       "    <tr>\n",
       "      <th>3</th>\n",
       "      <td>3</td>\n",
       "      <td>1411686000</td>\n",
       "      <td>25</td>\n",
       "      <td>025B0001</td>\n",
       "      <td>5757</td>\n",
       "      <td>CD</td>\n",
       "      <td>0</td>\n",
       "      <td>-6.446961</td>\n",
       "      <td>53.344495</td>\n",
       "      <td>143</td>\n",
       "      <td>33608</td>\n",
       "      <td>3370</td>\n",
       "      <td>0</td>\n",
       "    </tr>\n",
       "    <tr>\n",
       "      <th>4</th>\n",
       "      <td>4</td>\n",
       "      <td>1411686001</td>\n",
       "      <td>27</td>\n",
       "      <td>077A0001</td>\n",
       "      <td>2602</td>\n",
       "      <td>RD</td>\n",
       "      <td>0</td>\n",
       "      <td>-6.341833</td>\n",
       "      <td>53.289558</td>\n",
       "      <td>45</td>\n",
       "      <td>33520</td>\n",
       "      <td>2596</td>\n",
       "      <td>0</td>\n",
       "    </tr>\n",
       "    <tr>\n",
       "      <th>...</th>\n",
       "      <td>...</td>\n",
       "      <td>...</td>\n",
       "      <td>...</td>\n",
       "      <td>...</td>\n",
       "      <td>...</td>\n",
       "      <td>...</td>\n",
       "      <td>...</td>\n",
       "      <td>...</td>\n",
       "      <td>...</td>\n",
       "      <td>...</td>\n",
       "      <td>...</td>\n",
       "      <td>...</td>\n",
       "      <td>...</td>\n",
       "    </tr>\n",
       "    <tr>\n",
       "      <th>1041069</th>\n",
       "      <td>1048570</td>\n",
       "      <td>1411755514</td>\n",
       "      <td>747</td>\n",
       "      <td>07471001</td>\n",
       "      <td>1944</td>\n",
       "      <td>SL</td>\n",
       "      <td>0</td>\n",
       "      <td>-6.244154</td>\n",
       "      <td>53.428052</td>\n",
       "      <td>213</td>\n",
       "      <td>40043</td>\n",
       "      <td>3665</td>\n",
       "      <td>1</td>\n",
       "    </tr>\n",
       "    <tr>\n",
       "      <th>1041070</th>\n",
       "      <td>1048571</td>\n",
       "      <td>1411755514</td>\n",
       "      <td>25</td>\n",
       "      <td>025B0001</td>\n",
       "      <td>404</td>\n",
       "      <td>PO</td>\n",
       "      <td>0</td>\n",
       "      <td>-6.451497</td>\n",
       "      <td>53.344559</td>\n",
       "      <td>-466</td>\n",
       "      <td>33371</td>\n",
       "      <td>7231</td>\n",
       "      <td>0</td>\n",
       "    </tr>\n",
       "    <tr>\n",
       "      <th>1041071</th>\n",
       "      <td>1048572</td>\n",
       "      <td>1411755515</td>\n",
       "      <td>39</td>\n",
       "      <td>039A0001</td>\n",
       "      <td>6323</td>\n",
       "      <td>PO</td>\n",
       "      <td>0</td>\n",
       "      <td>-6.413017</td>\n",
       "      <td>53.400772</td>\n",
       "      <td>449</td>\n",
       "      <td>33439</td>\n",
       "      <td>1874</td>\n",
       "      <td>0</td>\n",
       "    </tr>\n",
       "    <tr>\n",
       "      <th>1041072</th>\n",
       "      <td>1048573</td>\n",
       "      <td>1411755520</td>\n",
       "      <td>7</td>\n",
       "      <td>00081002</td>\n",
       "      <td>4142</td>\n",
       "      <td>D1</td>\n",
       "      <td>0</td>\n",
       "      <td>-6.237683</td>\n",
       "      <td>53.335594</td>\n",
       "      <td>91</td>\n",
       "      <td>44017</td>\n",
       "      <td>490</td>\n",
       "      <td>0</td>\n",
       "    </tr>\n",
       "    <tr>\n",
       "      <th>1041073</th>\n",
       "      <td>1048574</td>\n",
       "      <td>1411755520</td>\n",
       "      <td>14</td>\n",
       "      <td>00141001</td>\n",
       "      <td>3648</td>\n",
       "      <td>D2</td>\n",
       "      <td>0</td>\n",
       "      <td>-6.249912</td>\n",
       "      <td>53.276328</td>\n",
       "      <td>78</td>\n",
       "      <td>33073</td>\n",
       "      <td>2847</td>\n",
       "      <td>1</td>\n",
       "    </tr>\n",
       "  </tbody>\n",
       "</table>\n",
       "<p>1041074 rows × 13 columns</p>\n",
       "</div>"
      ],
      "text/plain": [
       "           index        Time LineID JourneyPattern  VehicleJID Operator  \\\n",
       "0              0  1411686000    65B       065B1001        7251       RD   \n",
       "1              1  1411686000     13       00131002        1809       HN   \n",
       "2              2  1411686000      7       00070004        4235       D1   \n",
       "3              3  1411686000     25       025B0001        5757       CD   \n",
       "4              4  1411686001     27       077A0001        2602       RD   \n",
       "...          ...         ...    ...            ...         ...      ...   \n",
       "1041069  1048570  1411755514    747       07471001        1944       SL   \n",
       "1041070  1048571  1411755514     25       025B0001         404       PO   \n",
       "1041071  1048572  1411755515     39       039A0001        6323       PO   \n",
       "1041072  1048573  1411755520      7       00081002        4142       D1   \n",
       "1041073  1048574  1411755520     14       00141001        3648       D2   \n",
       "\n",
       "         Congestion       Lon        Lat  Delay  VehicleID  StopID  AtStop  \n",
       "0                 0 -6.266066  53.338269   -739      38004    1354       0  \n",
       "1                 0 -6.266332  53.408386   1127      33342     323       0  \n",
       "2                 0 -6.130316  53.254202   -420      44016    3219       0  \n",
       "3                 0 -6.446961  53.344495    143      33608    3370       0  \n",
       "4                 0 -6.341833  53.289558     45      33520    2596       0  \n",
       "...             ...       ...        ...    ...        ...     ...     ...  \n",
       "1041069           0 -6.244154  53.428052    213      40043    3665       1  \n",
       "1041070           0 -6.451497  53.344559   -466      33371    7231       0  \n",
       "1041071           0 -6.413017  53.400772    449      33439    1874       0  \n",
       "1041072           0 -6.237683  53.335594     91      44017     490       0  \n",
       "1041073           0 -6.249912  53.276328     78      33073    2847       1  \n",
       "\n",
       "[1041074 rows x 13 columns]"
      ]
     },
     "execution_count": 13,
     "metadata": {},
     "output_type": "execute_result"
    }
   ],
   "source": [
    "newbus_data=bus_data.drop(bus_data.index[999:8500]) # row 1 is index 0, index is 1 less than the actual num\n",
    "newbus_data.reset_index()"
   ]
  },
  {
   "cell_type": "markdown",
   "metadata": {},
   "source": [
    "The new values of the measures, after removing rows 1000-8500 are:\n",
    "\n",
    "|  Categories | Range | Mean | Standard Deviation |\n",
    "| --- | --- | --- | --- |\n",
    "| Time |1411686000 - 1411755520|1411732790.5605|13682.5613|\n",
    "| Lon | -6.6147 - -6.0531 | -6.2699 | 0.0796 |\n",
    "| Lat | 53.0704 - 53.6065 | 53.3432 | 0.0527 |\n",
    "| Delay |-14209 - 11723 | 152.687 | 621.4492 |\n",
    "\n",
    "The mean delay for the Operator \"PO\" is 194.4428 seconds."
   ]
  },
  {
   "cell_type": "code",
   "execution_count": 14,
   "metadata": {},
   "outputs": [
    {
     "data": {
      "text/plain": [
       "5970"
      ]
     },
     "execution_count": 14,
     "metadata": {},
     "output_type": "execute_result"
    }
   ],
   "source": [
    "#calculating how any unique values are present in VehicleJID, attempting to decide how to group datasets for later problems\n",
    "nbu=bus_data[\"VehicleJID\"].nunique()\n",
    "nbu"
   ]
  },
  {
   "cell_type": "code",
   "execution_count": 15,
   "metadata": {},
   "outputs": [
    {
     "data": {
      "text/plain": [
       "405"
      ]
     },
     "execution_count": 15,
     "metadata": {},
     "output_type": "execute_result"
    }
   ],
   "source": [
    "#calculating how any unique values are present in Journey Pattern, attempting to decide how to group datasets for later problems\n",
    "jpu=bus_data[\"JourneyPattern\"].nunique()\n",
    "jpu"
   ]
  },
  {
   "cell_type": "code",
   "execution_count": 16,
   "metadata": {},
   "outputs": [
    {
     "data": {
      "text/plain": [
       "'-14209 - 11723'"
      ]
     },
     "execution_count": 16,
     "metadata": {},
     "output_type": "execute_result"
    }
   ],
   "source": [
    "#Calling function to \"calculate\" range of specified column\n",
    "colrange(newbus_data,\"Delay\")"
   ]
  },
  {
   "cell_type": "code",
   "execution_count": 17,
   "metadata": {},
   "outputs": [],
   "source": [
    "#delay1=newbus_data.loc[newbus_data[\"Delay\"]==-14209]"
   ]
  },
  {
   "cell_type": "markdown",
   "metadata": {},
   "source": [
    "^just wanted to check the minimum delay value, because if it is according to seconds, then that bus came really early"
   ]
  },
  {
   "cell_type": "code",
   "execution_count": 18,
   "metadata": {
    "scrolled": false
   },
   "outputs": [
    {
     "data": {
      "text/plain": [
       "152.6865"
      ]
     },
     "execution_count": 18,
     "metadata": {},
     "output_type": "execute_result"
    }
   ],
   "source": [
    "#Calling function to calculate mean of specified column\n",
    "colmean(newbus_data, \"Delay\")"
   ]
  },
  {
   "cell_type": "code",
   "execution_count": 19,
   "metadata": {
    "scrolled": true
   },
   "outputs": [
    {
     "data": {
      "text/plain": [
       "621.4491"
      ]
     },
     "execution_count": 19,
     "metadata": {},
     "output_type": "execute_result"
    }
   ],
   "source": [
    "#Calling function to calculate standard deviation of specified column\n",
    "colstdev(newbus_data, \"Delay\")"
   ]
  },
  {
   "cell_type": "code",
   "execution_count": 20,
   "metadata": {},
   "outputs": [],
   "source": [
    "#variable only containing delay information from operator \"OP\"\n",
    "oppo=newbus_data.loc[newbus_data[\"Operator\"]==\"PO\"]\n",
    "#oppo"
   ]
  },
  {
   "cell_type": "code",
   "execution_count": 21,
   "metadata": {},
   "outputs": [
    {
     "data": {
      "text/plain": [
       "194.4428"
      ]
     },
     "execution_count": 21,
     "metadata": {},
     "output_type": "execute_result"
    }
   ],
   "source": [
    "# Mean value of the delay experienced through the operator \"OP\"\n",
    "colmean(oppo,\"Delay\")"
   ]
  },
  {
   "cell_type": "markdown",
   "metadata": {},
   "source": [
    "### 5. Plotting: Plot the delay distribution per operator. You should have K histograms with K being the number of operators. What can we learn from this graph?"
   ]
  },
  {
   "cell_type": "markdown",
   "metadata": {},
   "source": [
    "There are 8 histograms for 8 different operators. Based on the histograms below, we can see the frequency of delays (or early arrivals) among the different operators. For example, the long middle frequency bar for Operator \"HN\" covers a range whose average appears to fall on zero which can indicate that on average, vehicles under operator \"HN\" typically arrive on time, with a few early arrivals and delays. The narrow width of the bars for Operator \"CF\" could indicate presence of fewer datapoints for this operator in the dataset used. It can also indicate that \"CF\" offers a fairly consistent service with few delays. Overall, all operators appear to offer a similar quality of service except for \"PO\", which appears to have a higher range of delays."
   ]
  },
  {
   "cell_type": "code",
   "execution_count": 22,
   "metadata": {
    "scrolled": true
   },
   "outputs": [
    {
     "data": {
      "text/plain": [
       "array(['RD', 'HN', 'D1', 'CD', 'PO', 'SL', 'CF', 'D2'], dtype=object)"
      ]
     },
     "execution_count": 22,
     "metadata": {},
     "output_type": "execute_result"
    }
   ],
   "source": [
    "bus_data[\"Operator\"].unique()"
   ]
  },
  {
   "cell_type": "code",
   "execution_count": 23,
   "metadata": {},
   "outputs": [],
   "source": [
    "#Dataframe only containing variables desired in histrogram\n",
    "operators=pd.DataFrame(newbus_data,columns=[\"Operator\",\"Delay\"])"
   ]
  },
  {
   "cell_type": "code",
   "execution_count": 24,
   "metadata": {},
   "outputs": [
    {
     "data": {
      "image/png": "[encoded data removed]",
      "text/plain": [
       "<Figure size 576x1152 with 8 Axes>"
      ]
     },
     "metadata": {},
     "output_type": "display_data"
    }
   ],
   "source": [
    "sb.set(style=\"darkgrid\")\n",
    "g = sb.FacetGrid(operators, col=\"Operator\", col_wrap=2,height=4, aspect=1, xlim=(-5000, 5000))\n",
    "g = g.map(plt.hist, \"Delay\")"
   ]
  },
  {
   "cell_type": "markdown",
   "metadata": {},
   "source": [
    "### 6. Wrangling: We aim at predicting journey durations based on various trip characteristics. Create a dataset, where every row is a single journey, while the columns summarize all relevant journey information that would be useful to predict traveling times. Make sure that one of the columns is the total journey time."
   ]
  },
  {
   "cell_type": "markdown",
   "metadata": {},
   "source": [
    "Journey time is the time between the earliest and the latest event. Below is the dataset which is grouped by Vehicle Journey ID as this is a unique identifier of journeys taken by the vehicles of different operators. The new dataset named pjd, which stands for Predict Journey Duration, uses 6 of the original 12 columns, with certain columns containing new values like the average delay or congestion or total travel time per journey. "
   ]
  },
  {
   "cell_type": "code",
   "execution_count": 25,
   "metadata": {
    "scrolled": true
   },
   "outputs": [
    {
     "data": {
      "text/plain": [
       "Index(['Time', 'LineID', 'JourneyPattern', 'VehicleJID', 'Operator',\n",
       "       'Congestion', 'Lon', 'Lat', 'Delay', 'VehicleID', 'StopID', 'AtStop'],\n",
       "      dtype='object')"
      ]
     },
     "execution_count": 25,
     "metadata": {},
     "output_type": "execute_result"
    }
   ],
   "source": [
    "bus_data.columns"
   ]
  },
  {
   "cell_type": "code",
   "execution_count": 26,
   "metadata": {},
   "outputs": [],
   "source": [
    "#New dataframe on focusing on variables that may potentially impact journey duration\n",
    "jourdur=pd.DataFrame(bus_data,columns=[\"Time\",\"JourneyPattern\",\"LineID\",\"VehicleJID\", \"Operator\",\"Congestion\",\"Delay\",\"VehicleID\"])\n",
    "#jourdur"
   ]
  },
  {
   "cell_type": "code",
   "execution_count": 27,
   "metadata": {
    "scrolled": true
   },
   "outputs": [
    {
     "data": {
      "text/html": [
       "<div>\n",
       "<style scoped>\n",
       "    .dataframe tbody tr th:only-of-type {\n",
       "        vertical-align: middle;\n",
       "    }\n",
       "\n",
       "    .dataframe tbody tr th {\n",
       "        vertical-align: top;\n",
       "    }\n",
       "\n",
       "    .dataframe thead th {\n",
       "        text-align: right;\n",
       "    }\n",
       "</style>\n",
       "<table border=\"1\" class=\"dataframe\">\n",
       "  <thead>\n",
       "    <tr style=\"text-align: right;\">\n",
       "      <th></th>\n",
       "      <th>JourneyPattern</th>\n",
       "      <th>AvgDelays</th>\n",
       "      <th>MaxTime</th>\n",
       "      <th>MinTime</th>\n",
       "      <th>Operator</th>\n",
       "      <th>Route</th>\n",
       "      <th>AvgCongestion</th>\n",
       "      <th>TotalCongestion</th>\n",
       "      <th>TotalJourneyTime</th>\n",
       "    </tr>\n",
       "    <tr>\n",
       "      <th>VehicleJID</th>\n",
       "      <th></th>\n",
       "      <th></th>\n",
       "      <th></th>\n",
       "      <th></th>\n",
       "      <th></th>\n",
       "      <th></th>\n",
       "      <th></th>\n",
       "      <th></th>\n",
       "      <th></th>\n",
       "    </tr>\n",
       "  </thead>\n",
       "  <tbody>\n",
       "    <tr>\n",
       "      <th>1</th>\n",
       "      <td>033A1002</td>\n",
       "      <td>460.085890</td>\n",
       "      <td>1411747735</td>\n",
       "      <td>1411744132</td>\n",
       "      <td>SL</td>\n",
       "      <td>33A</td>\n",
       "      <td>0.000000</td>\n",
       "      <td>0</td>\n",
       "      <td>3603</td>\n",
       "    </tr>\n",
       "    <tr>\n",
       "      <th>2</th>\n",
       "      <td>033A0001</td>\n",
       "      <td>1121.917722</td>\n",
       "      <td>1411751274</td>\n",
       "      <td>1411747850</td>\n",
       "      <td>SL</td>\n",
       "      <td>33A</td>\n",
       "      <td>0.000000</td>\n",
       "      <td>0</td>\n",
       "      <td>3424</td>\n",
       "    </tr>\n",
       "    <tr>\n",
       "      <th>4</th>\n",
       "      <td>00411001</td>\n",
       "      <td>-183.556391</td>\n",
       "      <td>1411710780</td>\n",
       "      <td>1411707605</td>\n",
       "      <td>SL</td>\n",
       "      <td>41</td>\n",
       "      <td>0.000000</td>\n",
       "      <td>0</td>\n",
       "      <td>3175</td>\n",
       "    </tr>\n",
       "    <tr>\n",
       "      <th>5</th>\n",
       "      <td>041C0001</td>\n",
       "      <td>-140.125874</td>\n",
       "      <td>1411714552</td>\n",
       "      <td>1411710838</td>\n",
       "      <td>SL</td>\n",
       "      <td>41</td>\n",
       "      <td>0.000000</td>\n",
       "      <td>0</td>\n",
       "      <td>3714</td>\n",
       "    </tr>\n",
       "    <tr>\n",
       "      <th>6</th>\n",
       "      <td>00411002</td>\n",
       "      <td>132.688172</td>\n",
       "      <td>1411719042</td>\n",
       "      <td>1411714680</td>\n",
       "      <td>SL</td>\n",
       "      <td>41</td>\n",
       "      <td>0.032258</td>\n",
       "      <td>6</td>\n",
       "      <td>4362</td>\n",
       "    </tr>\n",
       "    <tr>\n",
       "      <th>...</th>\n",
       "      <td>...</td>\n",
       "      <td>...</td>\n",
       "      <td>...</td>\n",
       "      <td>...</td>\n",
       "      <td>...</td>\n",
       "      <td>...</td>\n",
       "      <td>...</td>\n",
       "      <td>...</td>\n",
       "      <td>...</td>\n",
       "    </tr>\n",
       "    <tr>\n",
       "      <th>994331</th>\n",
       "      <td>027A0002</td>\n",
       "      <td>-80.312102</td>\n",
       "      <td>1411721355</td>\n",
       "      <td>1411717525</td>\n",
       "      <td>CF</td>\n",
       "      <td>27A</td>\n",
       "      <td>0.000000</td>\n",
       "      <td>0</td>\n",
       "      <td>3830</td>\n",
       "    </tr>\n",
       "    <tr>\n",
       "      <th>994987</th>\n",
       "      <td>00070001</td>\n",
       "      <td>-21.357143</td>\n",
       "      <td>1411752394</td>\n",
       "      <td>1411748261</td>\n",
       "      <td>D2</td>\n",
       "      <td>7</td>\n",
       "      <td>0.000000</td>\n",
       "      <td>0</td>\n",
       "      <td>4133</td>\n",
       "    </tr>\n",
       "    <tr>\n",
       "      <th>996419</th>\n",
       "      <td>039A0001</td>\n",
       "      <td>411.487179</td>\n",
       "      <td>1411720542</td>\n",
       "      <td>1411718508</td>\n",
       "      <td>PO</td>\n",
       "      <td>39</td>\n",
       "      <td>0.000000</td>\n",
       "      <td>0</td>\n",
       "      <td>2034</td>\n",
       "    </tr>\n",
       "    <tr>\n",
       "      <th>996775</th>\n",
       "      <td>029A1002</td>\n",
       "      <td>229.355072</td>\n",
       "      <td>1411743505</td>\n",
       "      <td>1411740167</td>\n",
       "      <td>CF</td>\n",
       "      <td>29A</td>\n",
       "      <td>0.000000</td>\n",
       "      <td>0</td>\n",
       "      <td>3338</td>\n",
       "    </tr>\n",
       "    <tr>\n",
       "      <th>996944</th>\n",
       "      <td>041C1001</td>\n",
       "      <td>-98.968944</td>\n",
       "      <td>1411749723</td>\n",
       "      <td>1411746203</td>\n",
       "      <td>HN</td>\n",
       "      <td>41</td>\n",
       "      <td>0.000000</td>\n",
       "      <td>0</td>\n",
       "      <td>3520</td>\n",
       "    </tr>\n",
       "  </tbody>\n",
       "</table>\n",
       "<p>5970 rows × 9 columns</p>\n",
       "</div>"
      ],
      "text/plain": [
       "           JourneyPattern    AvgDelays     MaxTime     MinTime Operator Route  \\\n",
       "VehicleJID                                                                      \n",
       "1                033A1002   460.085890  1411747735  1411744132       SL   33A   \n",
       "2                033A0001  1121.917722  1411751274  1411747850       SL   33A   \n",
       "4                00411001  -183.556391  1411710780  1411707605       SL    41   \n",
       "5                041C0001  -140.125874  1411714552  1411710838       SL    41   \n",
       "6                00411002   132.688172  1411719042  1411714680       SL    41   \n",
       "...                   ...          ...         ...         ...      ...   ...   \n",
       "994331           027A0002   -80.312102  1411721355  1411717525       CF   27A   \n",
       "994987           00070001   -21.357143  1411752394  1411748261       D2     7   \n",
       "996419           039A0001   411.487179  1411720542  1411718508       PO    39   \n",
       "996775           029A1002   229.355072  1411743505  1411740167       CF   29A   \n",
       "996944           041C1001   -98.968944  1411749723  1411746203       HN    41   \n",
       "\n",
       "            AvgCongestion  TotalCongestion  TotalJourneyTime  \n",
       "VehicleJID                                                    \n",
       "1                0.000000                0              3603  \n",
       "2                0.000000                0              3424  \n",
       "4                0.000000                0              3175  \n",
       "5                0.000000                0              3714  \n",
       "6                0.032258                6              4362  \n",
       "...                   ...              ...               ...  \n",
       "994331           0.000000                0              3830  \n",
       "994987           0.000000                0              4133  \n",
       "996419           0.000000                0              2034  \n",
       "996775           0.000000                0              3338  \n",
       "996944           0.000000                0              3520  \n",
       "\n",
       "[5970 rows x 9 columns]"
      ]
     },
     "execution_count": 27,
     "metadata": {},
     "output_type": "execute_result"
    }
   ],
   "source": [
    "#PredictJourneyDuration\n",
    "pjd=jourdur.groupby(\"VehicleJID\").agg(JourneyPattern=pd.NamedAgg(column=\"JourneyPattern\", aggfunc=np.unique), \n",
    "                                      AvgDelays=pd.NamedAgg(column=\"Delay\", aggfunc=np.mean),\n",
    "                                      MaxTime=pd.NamedAgg(column=\"Time\", aggfunc=\"max\"), \n",
    "                                      MinTime=pd.NamedAgg(column=\"Time\", aggfunc=\"min\"),\n",
    "                                      Operator=pd.NamedAgg(column=\"Operator\", aggfunc=\"first\"),\n",
    "                                      Route = pd.NamedAgg(column=\"LineID\", aggfunc=np.unique),\n",
    "                                      AvgCongestion=pd.NamedAgg(column=\"Congestion\", aggfunc=np.mean),\n",
    "                                      TotalCongestion=pd.NamedAgg(column=\"Congestion\", aggfunc=np.sum))\n",
    "pjd[\"TotalJourneyTime\"]=pjd[\"MaxTime\"]-pjd[\"MinTime\"]\n",
    "pjd\n",
    "                                                                    "
   ]
  },
  {
   "cell_type": "markdown",
   "metadata": {},
   "source": [
    "### 7. Correlating: Plot the traveling time as function of at least 2 journey level features (e.g.,average delay) to test correlation of those features with travel times. What are your main findings?"
   ]
  },
  {
   "cell_type": "markdown",
   "metadata": {},
   "source": [
    "A few key findings from the different graphs plotted below include:\n",
    "* With the exception of a few outliers, there doesn't appear to a direct positive or negative correlation between the length of a journey and the average delay experienced. In other words, there are other factors that can affect the length of a journey the number of stops on a line, or the season during which this data was collected.\n",
    "\n",
    "* Based on the second graph, there also doesn't appear to be a correlation between the length of a journey and the average congestion experienced on route of that journey. Congestion appears to be indifferent to the amount of time it takes to complete a trip.\n",
    "\n",
    "* The third and fourth scatterplots show that average delay and the total journey time between differet operators is relatively the same. Consumers appear to recieve consistent service from all 8 operators"
   ]
  },
  {
   "cell_type": "code",
   "execution_count": 28,
   "metadata": {
    "scrolled": true
   },
   "outputs": [
    {
     "data": {
      "text/plain": [
       "<Figure size 576x576 with 0 Axes>"
      ]
     },
     "execution_count": 28,
     "metadata": {},
     "output_type": "execute_result"
    },
    {
     "data": {
      "image/png": "[encoded data removed]",
      "text/plain": [
       "<Figure size 432x288 with 1 Axes>"
      ]
     },
     "metadata": {},
     "output_type": "display_data"
    },
    {
     "data": {
      "text/plain": [
       "<Figure size 576x576 with 0 Axes>"
      ]
     },
     "metadata": {},
     "output_type": "display_data"
    }
   ],
   "source": [
    "# scatterplot showing relationship between average delays of a journey and the total time it takes to complete the journey\n",
    "sb.set()\n",
    "travelplot=sb.scatterplot(x=\"AvgDelays\", y=\"TotalJourneyTime\", color=\"red\",data=pjd)\n",
    "plt.title(\"Relationship between Average Delays and Total Journey Time\")\n",
    "plt.figure(figsize=(8,8))"
   ]
  },
  {
   "cell_type": "code",
   "execution_count": 29,
   "metadata": {
    "scrolled": false
   },
   "outputs": [
    {
     "data": {
      "text/plain": [
       "<Figure size 576x576 with 0 Axes>"
      ]
     },
     "execution_count": 29,
     "metadata": {},
     "output_type": "execute_result"
    },
    {
     "data": {
      "image/png": "[encoded data removed]",
      "text/plain": [
       "<Figure size 432x288 with 1 Axes>"
      ]
     },
     "metadata": {},
     "output_type": "display_data"
    },
    {
     "data": {
      "text/plain": [
       "<Figure size 576x576 with 0 Axes>"
      ]
     },
     "metadata": {},
     "output_type": "display_data"
    }
   ],
   "source": [
    "#Scatterplot showing the relationship between the time it takes to complete a journey and congestion on the road \n",
    "sb.set()\n",
    "travelplot2=sb.scatterplot(x='AvgCongestion', y='TotalJourneyTime', color=\"blue\",data=pjd)\n",
    "plt.title(\"Impact of Congestion on Total Journey Time, on Average\")\n",
    "plt.figure(figsize=(8,8))"
   ]
  },
  {
   "cell_type": "code",
   "execution_count": 30,
   "metadata": {},
   "outputs": [
    {
     "data": {
      "text/plain": [
       "<Figure size 576x576 with 0 Axes>"
      ]
     },
     "execution_count": 30,
     "metadata": {},
     "output_type": "execute_result"
    },
    {
     "data": {
      "image/png": "[encoded data removed]",
      "text/plain": [
       "<Figure size 432x288 with 1 Axes>"
      ]
     },
     "metadata": {},
     "output_type": "display_data"
    },
    {
     "data": {
      "text/plain": [
       "<Figure size 576x576 with 0 Axes>"
      ]
     },
     "metadata": {},
     "output_type": "display_data"
    }
   ],
   "source": [
    "#scatterplot showing the relationship between operators and the average delays experienced by customers\n",
    "sb.set()\n",
    "travelbar=sb.scatterplot(x=\"Operator\", y=\"AvgDelays\", color=\"green\",data=pjd)\n",
    "plt.title(\"Average Delays per Operator\")\n",
    "plt.xlabel(\"Operator\")\n",
    "plt.ylabel(\"Average Delays\")\n",
    "plt.figure(figsize=(8,8))"
   ]
  },
  {
   "cell_type": "code",
   "execution_count": 31,
   "metadata": {
    "scrolled": false
   },
   "outputs": [
    {
     "data": {
      "text/plain": [
       "<Figure size 576x576 with 0 Axes>"
      ]
     },
     "execution_count": 31,
     "metadata": {},
     "output_type": "execute_result"
    },
    {
     "data": {
      "image/png": "[encoded data removed]",
      "text/plain": [
       "<Figure size 432x288 with 1 Axes>"
      ]
     },
     "metadata": {},
     "output_type": "display_data"
    },
    {
     "data": {
      "text/plain": [
       "<Figure size 576x576 with 0 Axes>"
      ]
     },
     "metadata": {},
     "output_type": "display_data"
    }
   ],
   "source": [
    "#Scatterplot showing relationship between operators and the total time it takes to complete a journey\n",
    "sb.set()\n",
    "travelbar=sb.scatterplot(x=\"Operator\", y=\"TotalJourneyTime\",color=\"orange\", data=pjd)\n",
    "plt.title(\"Total Journey Time per Operator\")\n",
    "plt.xlabel(\"Operator\")\n",
    "plt.ylabel(\"Total Journey Time\")\n",
    "plt.figure(figsize=(8,8))"
   ]
  }
 ],
 "metadata": {
  "kernelspec": {
   "display_name": "Python 3",
   "language": "python",
   "name": "python3"
  },
  "language_info": {
   "codemirror_mode": {
    "name": "ipython",
    "version": 3
   },
   "file_extension": ".py",
   "mimetype": "text/x-python",
   "name": "python",
   "nbconvert_exporter": "python",
   "pygments_lexer": "ipython3",
   "version": "3.7.6"
  }
 },
 "nbformat": 4,
 "nbformat_minor": 2
}
